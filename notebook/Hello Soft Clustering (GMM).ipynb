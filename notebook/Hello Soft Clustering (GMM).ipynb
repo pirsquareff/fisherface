{
 "cells": [
  {
   "cell_type": "markdown",
   "metadata": {},
   "source": [
    "# Hello Soft Clustering (GMM)\n",
    "**GitHub:** https://github.com/pirsquareff/fisherface\n",
    "\n",
    "Recall from HW1 we did K-means clustering. Fitting a GMM on a set of points can be considered as another method to do clustering but now with soft assignments.\n",
    "\n",
    "Consider the same set of points we used in HW1\n",
    "\n",
    "<img src=\"images/clustering-observation-in-xy-plane.png\" width=\"35%\" height=\"35%\">\n",
    "\n",
    "In class, we showed that we could fit a GMM on 1-dimensional data by using Expectation Maximization (EM). The algorithm for doing EM on N-dimensional GMM is very similar. The exact algorithm is as follows:\n",
    "\n",
    "**Initialization:** Initialize the mixture weights, $\\phi=\\{m_{j}\\}$, where $j$ is the mixture number, means of each Gaussian, $\\mu_{j}$ (now a vector of $N$ dimensions), and covariance matrices of each Gaussian, $Σ_{j}$.<br>\n",
    "**Expectation:** Find the soft assignments for each data point $w_{n, j}$ where $n$ corresponds to the sample index.\n",
    "$$w_{n, j} = \\frac{p(x_{n}; \\overrightarrow{\\mu_{j}}, \\mathbf{Σ}_{j})m_{j}}{\\sum_{j}p(x_{n}; \\overrightarrow{\\mu_{j}}, \\mathbf{Σ}_{j})m_{j}}$$\n",
    "$w_{n, j}$ means the probability that data point $n$ comes from Gaussian number $j$.<br>\n",
    "<div class=\"alert alert-block alert-info\">\n",
    "**Multivariate Normal Distribution (MVN Distribution)**<br>\n",
    "$$f(\\mathbf{x}) = \\frac{1}{(2\\pi)^{d/2}|\\mathbf{Σ}|^{1/2}}exp\\{-\\frac{1}{2}(\\mathbf{x}-\\mathbf{\\mu})^T\\mathbf{Σ}^{-1}(\\mathbf{x}-\\mathbf{\\mu})\\}$$\n",
    "where $d$ is the dimension of data\n",
    "</div>\n",
    "**Maximization:** Update the model parameters, $\\phi$, $\\mu_{j}$, $Σ_{j}$.\n",
    "$$m_{j} = \\frac{1}{N}\\sum_{n}w_{n, j}$$\n",
    "$$\\overrightarrow{\\mu_{j}} = \\frac{\\sum_{n}w_{n,j}\\overrightarrow{x_{n}}}{\\sum_{n}w_{n,j}}$$\n",
    "$$\\mathbf{Σ}_{j} = \\frac{\\sum_{n}w_{n,j}(\\overrightarrow{x_{n}}-\\overrightarrow{\\mu_{j}})(\\overrightarrow{x_{n}}-\\overrightarrow{\\mu_{j}})^T}{\\sum_{n}w_{n,j}}$$\n",
    "\n",
    "<div class=\"alert alert-block alert-info\">\n",
    "The above equation is used for full covariance matrices. For our small toy example, we will use diagonal covariance matrices, which can be acquired by setting the off-diagonal values to zero. In other words, $\\mathbf{Σ}_{(i, j)} = 0$, for $i \\neq j$.\n",
    "</div>\n",
    "\n",
    "**Repeat:** Expectation and maximization step."
   ]
  },
  {
   "cell_type": "code",
   "execution_count": 128,
   "metadata": {
    "collapsed": true
   },
   "outputs": [],
   "source": [
    "import numpy as np\n",
    "from IPython.display import Latex\n",
    "from IPython.display import Math\n",
    "from IPython.display import display"
   ]
  },
  {
   "cell_type": "code",
   "execution_count": 11,
   "metadata": {
    "collapsed": true
   },
   "outputs": [],
   "source": [
    "data_points = np.array([[1, 2], [3, 3], [2, 2], [8, 8], [6, 6], [7, 7], [-3, -3], [-2, -4], [-7, -7]]) "
   ]
  },
  {
   "cell_type": "code",
   "execution_count": 116,
   "metadata": {
    "collapsed": true
   },
   "outputs": [],
   "source": [
    "def latex_bmatrix(a):\n",
    "    \"\"\"Returns a LaTeX bmatrix\n",
    "    :a: numpy array\n",
    "    :returns: LaTeX bmatrix as a string\n",
    "    \"\"\"\n",
    "    if len(a.shape) > 2:\n",
    "        raise ValueError('bmatrix can at most display two dimensions')\n",
    "    lines = str(a).replace('[', '').replace(']', '').splitlines()\n",
    "    rv = [r'\\begin{bmatrix}']\n",
    "    rv += ['  ' + ' & '.join(l.split()) + r'\\\\' for l in lines]\n",
    "    rv +=  [r'\\end{bmatrix}']\n",
    "    return '\\n'.join(rv)"
   ]
  },
  {
   "cell_type": "code",
   "execution_count": 54,
   "metadata": {
    "collapsed": true
   },
   "outputs": [],
   "source": [
    "# define multivariate normal distribution (MVN distribution)\n",
    "def mvn(x, mu, sigma):\n",
    "#     return 1./((2. * np.pi) ** (dimension / 2.) * (np.linalg.det(sigma) ** -.5)) \\\n",
    "#             * np.exp(np.asscalar(np.matmul(np.matmul((x - mu), np.linalg.inv(sigma)), (x - mu).T)))\n",
    "    return np.linalg.det(sigma) ** -.5 ** (2 * np.pi) ** (-x.shape[1] / 2.) \\\n",
    "                * np.exp(-.5 * np.einsum('ij, ij -> i', \\\n",
    "                x - mu, np.dot(np.linalg.inv(sigma), (x - mu).T).T))"
   ]
  },
  {
   "cell_type": "code",
   "execution_count": 221,
   "metadata": {
    "collapsed": true
   },
   "outputs": [],
   "source": [
    "def em(data, n_mixture, initial_mu = None, iterations = 1000, verbose = False):\n",
    "    \"\"\"Do expectation maximization (EM) on N-dimensional GMM\n",
    "    :data: data in N-dimension\n",
    "    :n_mixture: a number of mixture\n",
    "    :initial_mu: Initialized Gaussian means\n",
    "    :iterations: A maximum round to do repeat step\n",
    "    \"\"\"\n",
    "    # n_data: number of data points\n",
    "    # dimension: dimension of data points\n",
    "    n_data, dimension = data.shape\n",
    "\n",
    "    ## INITIALIZATION STEP ##\n",
    "    # initialize mixture weight of each Gaussian equally (ϕ: phi)\n",
    "    phi = [1./n_mixture] * n_mixture\n",
    "    \n",
    "    if initial_mu is not None:\n",
    "        mu = np.array(initial_mu)\n",
    "    else:\n",
    "        # randomly initialize means of each Gaussian (μ: mu)\n",
    "        mu = data[np.random.choice(n_data, size = n_mixture, replace = False), :]\n",
    "    \n",
    "    # initialize covariance matrices of each Gaussian (Σ: sigma)\n",
    "    \"\"\"\n",
    "    numpy.eye(N)\n",
    "    :N: Number of rows in the output.\n",
    "    :return: A 2-D array w/ ones on the diagonal and zeros elsewhere.\n",
    "    \"\"\"\n",
    "    sigma = [np.eye(dimension)] * n_mixture\n",
    "    \n",
    "    if(verbose):\n",
    "        print(\"Initialization:\")\n",
    "        display(Math(r\"m_{j}:\"))\n",
    "        for j in range(n_mixture):\n",
    "            display(Latex(r\"\\begin{equation}m_{\" + str(j) + \"}=\" + latex_bmatrix(np.matrix(phi[j])) + \"\\end{equation}\"))\n",
    "        display(Math(r\"\\mu_{j}:\"))\n",
    "        for j in range(n_mixture):\n",
    "            display(Latex(r\"\\begin{equation}\\mu_{\" + str(j) + \"}=\" + latex_bmatrix(np.matrix(mu[j]).T) + \"\\end{equation}\"))\n",
    "        display(Math(r\"\\mathbf{Σ}_{j}:\"))\n",
    "        for j in range(n_mixture):\n",
    "            display(Latex(r\"\\begin{equation}\\mathbf{Σ}_{\" + str(j) + \"}=\" + latex_bmatrix(sigma[j]) + \"\\end{equation}\"))\n",
    "        print()\n",
    "    \n",
    "    for i in range(iterations) :\n",
    "        ## EXPECTATION STEP ##\n",
    "        # set soft labels (w)\n",
    "        w_numerator = np.zeros((n_data, n_mixture))\n",
    "        for j in range(n_mixture):\n",
    "            w_numerator[:, j] = mvn(data, mu[j], sigma[j]) * phi[j]\n",
    "        w = (w_numerator.T / np.sum(w_numerator, axis = 1)).T\n",
    "        w_j = np.sum(w, axis = 0)\n",
    "        \n",
    "        ## MAXIMIZATION STEP ##\n",
    "        for j in range(n_mixture):\n",
    "            # update mixture weight\n",
    "            phi[j] = 1. / n_data * w_j[j]\n",
    "            \n",
    "            # update mean\n",
    "            mu[j] = np.sum(w[:, j] * data.T, axis = 1).T / w_j[j]\n",
    "\n",
    "            # update sigma\n",
    "            x_mu = np.matrix(data - mu[j])\n",
    "            sigma[j] = np.array(np.dot(np.multiply(x_mu.T, w[:, j]), x_mu) / w_j[j])\n",
    "            \n",
    "            # set the off-diagonal values to zero\n",
    "            sigma[j] = np.diag(np.diag(sigma[j]))\n",
    "        \n",
    "        if(verbose):\n",
    "            print(\"EM Iteration: \" + str(i + 1))\n",
    "            display(Latex(r\"\\begin{equation}w_{n,j}=\" + latex_bmatrix(w) + \"\\end{equation}\"))\n",
    "            # for j in range(n_mixture):\n",
    "            #     display(Latex(r\"\\begin{equation}w_{n,\" + str(j) + \"}=\" + latex_bmatrix(w[:, j]) + \"\\end{equation}\"))\n",
    "            display(Math(r\"m_{j}:\"))\n",
    "            for j in range(n_mixture):\n",
    "                display(Latex(r\"\\begin{equation}m_{\" + str(j) + \"}=\" + latex_bmatrix(np.matrix(phi[j])) + \"\\end{equation}\"))\n",
    "            display(Math(r\"\\mu_{j}:\"))\n",
    "            for j in range(n_mixture):\n",
    "                display(Latex(r\"\\begin{equation}\\mu_{\" + str(j) + \"}=\" + latex_bmatrix(np.matrix(mu[j]).T) + \"\\end{equation}\"))\n",
    "            display(Math(r\"\\mathbf{Σ}_{j}:\"))\n",
    "            for j in range(n_mixture):\n",
    "                display(Latex(r\"\\begin{equation}\\mathbf{Σ}_{\" + str(j) + \"}=\" + latex_bmatrix(sigma[j]) + \"\\end{equation}\"))\n",
    "            print()"
   ]
  },
  {
   "cell_type": "markdown",
   "metadata": {},
   "source": [
    "- Using 3 mixtures, initialize your Gaussian with means $(3,3)$, $(2,2)$, and $(-3,-3)$, and standard Covariance, $\\textbf{I}$, the identity matrix. Use equal mixture weights as the initial weights. Repeat three iterations of EM. Write down $w_{n,j}, m_{j}, \\mu_{j}, \\mathbf{Σ}_{j}$ for each EM iteration. (You may do the calculations by hand or write code to do so)"
   ]
  },
  {
   "cell_type": "code",
   "execution_count": 223,
   "metadata": {},
   "outputs": [
    {
     "name": "stdout",
     "output_type": "stream",
     "text": [
      "Initialization:\n"
     ]
    },
    {
     "data": {
      "text/latex": [
       "$$m_{j}:$$"
      ],
      "text/plain": [
       "<IPython.core.display.Math object>"
      ]
     },
     "metadata": {},
     "output_type": "display_data"
    },
    {
     "data": {
      "text/latex": [
       "\\begin{equation}m_{0}=\\begin{bmatrix}\n",
       "  0.33333333\\\\\n",
       "\\end{bmatrix}\\end{equation}"
      ],
      "text/plain": [
       "<IPython.core.display.Latex object>"
      ]
     },
     "metadata": {},
     "output_type": "display_data"
    },
    {
     "data": {
      "text/latex": [
       "\\begin{equation}m_{1}=\\begin{bmatrix}\n",
       "  0.33333333\\\\\n",
       "\\end{bmatrix}\\end{equation}"
      ],
      "text/plain": [
       "<IPython.core.display.Latex object>"
      ]
     },
     "metadata": {},
     "output_type": "display_data"
    },
    {
     "data": {
      "text/latex": [
       "\\begin{equation}m_{2}=\\begin{bmatrix}\n",
       "  0.33333333\\\\\n",
       "\\end{bmatrix}\\end{equation}"
      ],
      "text/plain": [
       "<IPython.core.display.Latex object>"
      ]
     },
     "metadata": {},
     "output_type": "display_data"
    },
    {
     "data": {
      "text/latex": [
       "$$\\mu_{j}:$$"
      ],
      "text/plain": [
       "<IPython.core.display.Math object>"
      ]
     },
     "metadata": {},
     "output_type": "display_data"
    },
    {
     "data": {
      "text/latex": [
       "\\begin{equation}\\mu_{0}=\\begin{bmatrix}\n",
       "  3\\\\\n",
       "  3\\\\\n",
       "\\end{bmatrix}\\end{equation}"
      ],
      "text/plain": [
       "<IPython.core.display.Latex object>"
      ]
     },
     "metadata": {},
     "output_type": "display_data"
    },
    {
     "data": {
      "text/latex": [
       "\\begin{equation}\\mu_{1}=\\begin{bmatrix}\n",
       "  2\\\\\n",
       "  2\\\\\n",
       "\\end{bmatrix}\\end{equation}"
      ],
      "text/plain": [
       "<IPython.core.display.Latex object>"
      ]
     },
     "metadata": {},
     "output_type": "display_data"
    },
    {
     "data": {
      "text/latex": [
       "\\begin{equation}\\mu_{2}=\\begin{bmatrix}\n",
       "  -3\\\\\n",
       "  -3\\\\\n",
       "\\end{bmatrix}\\end{equation}"
      ],
      "text/plain": [
       "<IPython.core.display.Latex object>"
      ]
     },
     "metadata": {},
     "output_type": "display_data"
    },
    {
     "data": {
      "text/latex": [
       "$$\\mathbf{Σ}_{j}:$$"
      ],
      "text/plain": [
       "<IPython.core.display.Math object>"
      ]
     },
     "metadata": {},
     "output_type": "display_data"
    },
    {
     "data": {
      "text/latex": [
       "\\begin{equation}\\mathbf{Σ}_{0}=\\begin{bmatrix}\n",
       "  1. & 0.\\\\\n",
       "  0. & 1.\\\\\n",
       "\\end{bmatrix}\\end{equation}"
      ],
      "text/plain": [
       "<IPython.core.display.Latex object>"
      ]
     },
     "metadata": {},
     "output_type": "display_data"
    },
    {
     "data": {
      "text/latex": [
       "\\begin{equation}\\mathbf{Σ}_{1}=\\begin{bmatrix}\n",
       "  1. & 0.\\\\\n",
       "  0. & 1.\\\\\n",
       "\\end{bmatrix}\\end{equation}"
      ],
      "text/plain": [
       "<IPython.core.display.Latex object>"
      ]
     },
     "metadata": {},
     "output_type": "display_data"
    },
    {
     "data": {
      "text/latex": [
       "\\begin{equation}\\mathbf{Σ}_{2}=\\begin{bmatrix}\n",
       "  1. & 0.\\\\\n",
       "  0. & 1.\\\\\n",
       "\\end{bmatrix}\\end{equation}"
      ],
      "text/plain": [
       "<IPython.core.display.Latex object>"
      ]
     },
     "metadata": {},
     "output_type": "display_data"
    },
    {
     "name": "stdout",
     "output_type": "stream",
     "text": [
      "\n",
      "EM Iteration: 1\n"
     ]
    },
    {
     "data": {
      "text/latex": [
       "\\begin{equation}w_{n,j}=\\begin{bmatrix}\n",
       "  1.19202922e-01 & 8.80797076e-01 & 1.81545808e-09\\\\\n",
       "  7.31058579e-01 & 2.68941421e-01 & 1.69570706e-16\\\\\n",
       "  2.68941421e-01 & 7.31058579e-01 & 1.01529005e-11\\\\\n",
       "  9.99983299e-01 & 1.67014218e-05 & 2.03105874e-42\\\\\n",
       "  9.99088949e-01 & 9.11051194e-04 & 5.37528453e-32\\\\\n",
       "  9.99876605e-01 & 1.23394576e-04 & 3.30529272e-37\\\\\n",
       "  2.31952283e-16 & 1.38879439e-11 & 1.00000000e+00\\\\\n",
       "  2.31952283e-16 & 1.38879439e-11 & 1.00000000e+00\\\\\n",
       "  3.30570063e-37 & 5.90009054e-29 & 1.00000000e+00\\\\\n",
       "\\end{bmatrix}\\end{equation}"
      ],
      "text/plain": [
       "<IPython.core.display.Latex object>"
      ]
     },
     "metadata": {},
     "output_type": "display_data"
    },
    {
     "data": {
      "text/latex": [
       "$$m_{j}:$$"
      ],
      "text/plain": [
       "<IPython.core.display.Math object>"
      ]
     },
     "metadata": {},
     "output_type": "display_data"
    },
    {
     "data": {
      "text/latex": [
       "\\begin{equation}m_{0}=\\begin{bmatrix}\n",
       "  0.45757242\\\\\n",
       "\\end{bmatrix}\\end{equation}"
      ],
      "text/plain": [
       "<IPython.core.display.Latex object>"
      ]
     },
     "metadata": {},
     "output_type": "display_data"
    },
    {
     "data": {
      "text/latex": [
       "\\begin{equation}m_{1}=\\begin{bmatrix}\n",
       "  0.20909425\\\\\n",
       "\\end{bmatrix}\\end{equation}"
      ],
      "text/plain": [
       "<IPython.core.display.Latex object>"
      ]
     },
     "metadata": {},
     "output_type": "display_data"
    },
    {
     "data": {
      "text/latex": [
       "\\begin{equation}m_{2}=\\begin{bmatrix}\n",
       "  0.33333333\\\\\n",
       "\\end{bmatrix}\\end{equation}"
      ],
      "text/plain": [
       "<IPython.core.display.Latex object>"
      ]
     },
     "metadata": {},
     "output_type": "display_data"
    },
    {
     "data": {
      "text/latex": [
       "$$\\mu_{j}:$$"
      ],
      "text/plain": [
       "<IPython.core.display.Math object>"
      ]
     },
     "metadata": {},
     "output_type": "display_data"
    },
    {
     "data": {
      "text/latex": [
       "\\begin{equation}\\mu_{0}=\\begin{bmatrix}\n",
       "  5\\\\\n",
       "  5\\\\\n",
       "\\end{bmatrix}\\end{equation}"
      ],
      "text/plain": [
       "<IPython.core.display.Latex object>"
      ]
     },
     "metadata": {},
     "output_type": "display_data"
    },
    {
     "data": {
      "text/latex": [
       "\\begin{equation}\\mu_{1}=\\begin{bmatrix}\n",
       "  1\\\\\n",
       "  2\\\\\n",
       "\\end{bmatrix}\\end{equation}"
      ],
      "text/plain": [
       "<IPython.core.display.Latex object>"
      ]
     },
     "metadata": {},
     "output_type": "display_data"
    },
    {
     "data": {
      "text/latex": [
       "\\begin{equation}\\mu_{2}=\\begin{bmatrix}\n",
       "  -3\\\\\n",
       "  -4\\\\\n",
       "\\end{bmatrix}\\end{equation}"
      ],
      "text/plain": [
       "<IPython.core.display.Latex object>"
      ]
     },
     "metadata": {},
     "output_type": "display_data"
    },
    {
     "data": {
      "text/latex": [
       "$$\\mathbf{Σ}_{j}:$$"
      ],
      "text/plain": [
       "<IPython.core.display.Math object>"
      ]
     },
     "metadata": {},
     "output_type": "display_data"
    },
    {
     "data": {
      "text/latex": [
       "\\begin{equation}\\mathbf{Σ}_{0}=\\begin{bmatrix}\n",
       "  5.16017866 & 0.\\\\\n",
       "  0. & 4.95755853\\\\\n",
       "\\end{bmatrix}\\end{equation}"
      ],
      "text/plain": [
       "<IPython.core.display.Latex object>"
      ]
     },
     "metadata": {},
     "output_type": "display_data"
    },
    {
     "data": {
      "text/latex": [
       "\\begin{equation}\\mathbf{Σ}_{1}=\\begin{bmatrix}\n",
       "  0.97503141 & 0.\\\\\n",
       "  0. & 0.15261824\\\\\n",
       "\\end{bmatrix}\\end{equation}"
      ],
      "text/plain": [
       "<IPython.core.display.Latex object>"
      ]
     },
     "metadata": {},
     "output_type": "display_data"
    },
    {
     "data": {
      "text/latex": [
       "\\begin{equation}\\mathbf{Σ}_{2}=\\begin{bmatrix}\n",
       "  5.66666667 & 0.\\\\\n",
       "  0. & 3.33333335\\\\\n",
       "\\end{bmatrix}\\end{equation}"
      ],
      "text/plain": [
       "<IPython.core.display.Latex object>"
      ]
     },
     "metadata": {},
     "output_type": "display_data"
    },
    {
     "name": "stdout",
     "output_type": "stream",
     "text": [
      "\n",
      "EM Iteration: 2\n"
     ]
    },
    {
     "data": {
      "text/latex": [
       "\\begin{equation}w_{n,j}=\\begin{bmatrix}\n",
       "  1.86190373e-003 & 9.98115212e-001 & 2.28846517e-005\\\\\n",
       "  6.70403617e-001 & 3.29558481e-001 & 3.79022370e-005\\\\\n",
       "  6.10082683e-003 & 9.93881973e-001 & 1.71998825e-005\\\\\n",
       "  1.00000000e+000 & 1.99843304e-060 & 5.44297691e-014\\\\\n",
       "  1.00000000e+000 & 2.59946248e-027 & 2.80493890e-010\\\\\n",
       "  1.00000000e+000 & 2.61471967e-042 & 4.06875589e-012\\\\\n",
       "  3.87499072e-006 & 4.10024648e-038 & 9.99996125e-001\\\\\n",
       "  2.80573082e-006 & 3.11886655e-052 & 9.99997194e-001\\\\\n",
       "  7.11115812e-012 & 2.39643780e-127 & 1.00000000e+000\\\\\n",
       "\\end{bmatrix}\\end{equation}"
      ],
      "text/plain": [
       "<IPython.core.display.Latex object>"
      ]
     },
     "metadata": {},
     "output_type": "display_data"
    },
    {
     "data": {
      "text/latex": [
       "$$m_{j}:$$"
      ],
      "text/plain": [
       "<IPython.core.display.Math object>"
      ]
     },
     "metadata": {},
     "output_type": "display_data"
    },
    {
     "data": {
      "text/latex": [
       "\\begin{equation}m_{0}=\\begin{bmatrix}\n",
       "  0.40870811\\\\\n",
       "\\end{bmatrix}\\end{equation}"
      ],
      "text/plain": [
       "<IPython.core.display.Latex object>"
      ]
     },
     "metadata": {},
     "output_type": "display_data"
    },
    {
     "data": {
      "text/latex": [
       "\\begin{equation}m_{1}=\\begin{bmatrix}\n",
       "  0.25795063\\\\\n",
       "\\end{bmatrix}\\end{equation}"
      ],
      "text/plain": [
       "<IPython.core.display.Latex object>"
      ]
     },
     "metadata": {},
     "output_type": "display_data"
    },
    {
     "data": {
      "text/latex": [
       "\\begin{equation}m_{2}=\\begin{bmatrix}\n",
       "  0.33334126\\\\\n",
       "\\end{bmatrix}\\end{equation}"
      ],
      "text/plain": [
       "<IPython.core.display.Latex object>"
      ]
     },
     "metadata": {},
     "output_type": "display_data"
    },
    {
     "data": {
      "text/latex": [
       "$$\\mu_{j}:$$"
      ],
      "text/plain": [
       "<IPython.core.display.Math object>"
      ]
     },
     "metadata": {},
     "output_type": "display_data"
    },
    {
     "data": {
      "text/latex": [
       "\\begin{equation}\\mu_{0}=\\begin{bmatrix}\n",
       "  6\\\\\n",
       "  6\\\\\n",
       "\\end{bmatrix}\\end{equation}"
      ],
      "text/plain": [
       "<IPython.core.display.Latex object>"
      ]
     },
     "metadata": {},
     "output_type": "display_data"
    },
    {
     "data": {
      "text/latex": [
       "\\begin{equation}\\mu_{1}=\\begin{bmatrix}\n",
       "  1\\\\\n",
       "  2\\\\\n",
       "\\end{bmatrix}\\end{equation}"
      ],
      "text/plain": [
       "<IPython.core.display.Latex object>"
      ]
     },
     "metadata": {},
     "output_type": "display_data"
    },
    {
     "data": {
      "text/latex": [
       "\\begin{equation}\\mu_{2}=\\begin{bmatrix}\n",
       "  -3\\\\\n",
       "  -4\\\\\n",
       "\\end{bmatrix}\\end{equation}"
      ],
      "text/plain": [
       "<IPython.core.display.Latex object>"
      ]
     },
     "metadata": {},
     "output_type": "display_data"
    },
    {
     "data": {
      "text/latex": [
       "$$\\mathbf{Σ}_{j}:$$"
      ],
      "text/plain": [
       "<IPython.core.display.Math object>"
      ]
     },
     "metadata": {},
     "output_type": "display_data"
    },
    {
     "data": {
      "text/latex": [
       "\\begin{equation}\\mathbf{Σ}_{0}=\\begin{bmatrix}\n",
       "  3.03892148 & 0.\\\\\n",
       "  0. & 3.03439336\\\\\n",
       "\\end{bmatrix}\\end{equation}"
      ],
      "text/plain": [
       "<IPython.core.display.Latex object>"
      ]
     },
     "metadata": {},
     "output_type": "display_data"
    },
    {
     "data": {
      "text/latex": [
       "\\begin{equation}\\mathbf{Σ}_{1}=\\begin{bmatrix}\n",
       "  0.99593386 & 0.\\\\\n",
       "  0. & 0.14195588\\\\\n",
       "\\end{bmatrix}\\end{equation}"
      ],
      "text/plain": [
       "<IPython.core.display.Latex object>"
      ]
     },
     "metadata": {},
     "output_type": "display_data"
    },
    {
     "data": {
      "text/latex": [
       "\\begin{equation}\\mathbf{Σ}_{2}=\\begin{bmatrix}\n",
       "  5.66725125 & 0.\\\\\n",
       "  0. & 3.33435288\\\\\n",
       "\\end{bmatrix}\\end{equation}"
      ],
      "text/plain": [
       "<IPython.core.display.Latex object>"
      ]
     },
     "metadata": {},
     "output_type": "display_data"
    },
    {
     "name": "stdout",
     "output_type": "stream",
     "text": [
      "\n",
      "EM Iteration: 3\n"
     ]
    },
    {
     "data": {
      "text/latex": [
       "\\begin{equation}w_{n,j}=\\begin{bmatrix}\n",
       "  4.40131188e-005 & 9.99938210e-001 & 1.77768916e-005\\\\\n",
       "  3.28555011e-001 & 6.71371584e-001 & 7.34046760e-005\\\\\n",
       "  3.19592418e-004 & 9.99667136e-001 & 1.32716993e-005\\\\\n",
       "  1.00000000e+000 & 1.75754199e-064 & 1.55007304e-014\\\\\n",
       "  1.00000000e+000 & 3.15697479e-029 & 1.03847443e-010\\\\\n",
       "  1.00000000e+000 & 2.99768529e-045 & 1.15823592e-012\\\\\n",
       "  7.05162249e-012 & 1.34010773e-040 & 1.00000000e+000\\\\\n",
       "  4.74836662e-012 & 6.31066525e-056 & 1.00000000e+000\\\\\n",
       "  2.49352601e-023 & 1.35963854e-135 & 1.00000000e+000\\\\\n",
       "\\end{bmatrix}\\end{equation}"
      ],
      "text/plain": [
       "<IPython.core.display.Latex object>"
      ]
     },
     "metadata": {},
     "output_type": "display_data"
    },
    {
     "data": {
      "text/latex": [
       "$$m_{j}:$$"
      ],
      "text/plain": [
       "<IPython.core.display.Math object>"
      ]
     },
     "metadata": {},
     "output_type": "display_data"
    },
    {
     "data": {
      "text/latex": [
       "\\begin{equation}m_{0}=\\begin{bmatrix}\n",
       "  0.36987985\\\\\n",
       "\\end{bmatrix}\\end{equation}"
      ],
      "text/plain": [
       "<IPython.core.display.Latex object>"
      ]
     },
     "metadata": {},
     "output_type": "display_data"
    },
    {
     "data": {
      "text/latex": [
       "\\begin{equation}m_{1}=\\begin{bmatrix}\n",
       "  0.29677521\\\\\n",
       "\\end{bmatrix}\\end{equation}"
      ],
      "text/plain": [
       "<IPython.core.display.Latex object>"
      ]
     },
     "metadata": {},
     "output_type": "display_data"
    },
    {
     "data": {
      "text/latex": [
       "\\begin{equation}m_{2}=\\begin{bmatrix}\n",
       "  0.33334494\\\\\n",
       "\\end{bmatrix}\\end{equation}"
      ],
      "text/plain": [
       "<IPython.core.display.Latex object>"
      ]
     },
     "metadata": {},
     "output_type": "display_data"
    },
    {
     "data": {
      "text/latex": [
       "$$\\mu_{j}:$$"
      ],
      "text/plain": [
       "<IPython.core.display.Math object>"
      ]
     },
     "metadata": {},
     "output_type": "display_data"
    },
    {
     "data": {
      "text/latex": [
       "\\begin{equation}\\mu_{0}=\\begin{bmatrix}\n",
       "  6\\\\\n",
       "  6\\\\\n",
       "\\end{bmatrix}\\end{equation}"
      ],
      "text/plain": [
       "<IPython.core.display.Latex object>"
      ]
     },
     "metadata": {},
     "output_type": "display_data"
    },
    {
     "data": {
      "text/latex": [
       "\\begin{equation}\\mu_{1}=\\begin{bmatrix}\n",
       "  1\\\\\n",
       "  2\\\\\n",
       "\\end{bmatrix}\\end{equation}"
      ],
      "text/plain": [
       "<IPython.core.display.Latex object>"
      ]
     },
     "metadata": {},
     "output_type": "display_data"
    },
    {
     "data": {
      "text/latex": [
       "\\begin{equation}\\mu_{2}=\\begin{bmatrix}\n",
       "  -3\\\\\n",
       "  -4\\\\\n",
       "\\end{bmatrix}\\end{equation}"
      ],
      "text/plain": [
       "<IPython.core.display.Latex object>"
      ]
     },
     "metadata": {},
     "output_type": "display_data"
    },
    {
     "data": {
      "text/latex": [
       "$$\\mathbf{Σ}_{j}:$$"
      ],
      "text/plain": [
       "<IPython.core.display.Math object>"
      ]
     },
     "metadata": {},
     "output_type": "display_data"
    },
    {
     "data": {
      "text/latex": [
       "\\begin{equation}\\mathbf{Σ}_{0}=\\begin{bmatrix}\n",
       "  2.39213085 & 0.\\\\\n",
       "  0. & 2.39201185\\\\\n",
       "\\end{bmatrix}\\end{equation}"
      ],
      "text/plain": [
       "<IPython.core.display.Latex object>"
      ]
     },
     "metadata": {},
     "output_type": "display_data"
    },
    {
     "data": {
      "text/latex": [
       "\\begin{equation}\\mathbf{Σ}_{1}=\\begin{bmatrix}\n",
       "  1.37970247 & 0.\\\\\n",
       "  0. & 0.25135806\\\\\n",
       "\\end{bmatrix}\\end{equation}"
      ],
      "text/plain": [
       "<IPython.core.display.Latex object>"
      ]
     },
     "metadata": {},
     "output_type": "display_data"
    },
    {
     "data": {
      "text/latex": [
       "\\begin{equation}\\mathbf{Σ}_{2}=\\begin{bmatrix}\n",
       "  5.6675556 & 0.\\\\\n",
       "  0. & 3.33478875\\\\\n",
       "\\end{bmatrix}\\end{equation}"
      ],
      "text/plain": [
       "<IPython.core.display.Latex object>"
      ]
     },
     "metadata": {},
     "output_type": "display_data"
    },
    {
     "name": "stdout",
     "output_type": "stream",
     "text": [
      "\n"
     ]
    }
   ],
   "source": [
    "init_mu_1 = np.array([[3, 3], [2, 2], [-3, -3]])\n",
    "em(data = data_points, n_mixture = 3, initial_mu = init_mu_1, iterations = 3, verbose = True)"
   ]
  },
  {
   "cell_type": "markdown",
   "metadata": {},
   "source": [
    "- Plot the log likelihood of the model given the data after each EM step. In other words, plot $\\log\\prod_np(x_{n}|\\phi, \\overrightarrow{\\mu},\\mathbf{Σ})$. Does it goes up every iteration just as we learned in class?"
   ]
  },
  {
   "cell_type": "markdown",
   "metadata": {},
   "source": [
    "- Using 2 mixtures, initialize your Gaussian with means $(3,3)$ and $(-3,-3)$, and standard Covariance, $\\mathbf{I}$, the identity matrix. Use equal mixture weights as the initial weights. Repeat three iterations of EM. Write down $w_{n, j}, m_{j}, \\mu_{j}, \\mathbf{Σ}_{j}$ for each EM iteration."
   ]
  },
  {
   "cell_type": "code",
   "execution_count": 224,
   "metadata": {},
   "outputs": [
    {
     "name": "stdout",
     "output_type": "stream",
     "text": [
      "Initialization:\n"
     ]
    },
    {
     "data": {
      "text/latex": [
       "$$m_{j}:$$"
      ],
      "text/plain": [
       "<IPython.core.display.Math object>"
      ]
     },
     "metadata": {},
     "output_type": "display_data"
    },
    {
     "data": {
      "text/latex": [
       "\\begin{equation}m_{0}=\\begin{bmatrix}\n",
       "  0.5\\\\\n",
       "\\end{bmatrix}\\end{equation}"
      ],
      "text/plain": [
       "<IPython.core.display.Latex object>"
      ]
     },
     "metadata": {},
     "output_type": "display_data"
    },
    {
     "data": {
      "text/latex": [
       "\\begin{equation}m_{1}=\\begin{bmatrix}\n",
       "  0.5\\\\\n",
       "\\end{bmatrix}\\end{equation}"
      ],
      "text/plain": [
       "<IPython.core.display.Latex object>"
      ]
     },
     "metadata": {},
     "output_type": "display_data"
    },
    {
     "data": {
      "text/latex": [
       "$$\\mu_{j}:$$"
      ],
      "text/plain": [
       "<IPython.core.display.Math object>"
      ]
     },
     "metadata": {},
     "output_type": "display_data"
    },
    {
     "data": {
      "text/latex": [
       "\\begin{equation}\\mu_{0}=\\begin{bmatrix}\n",
       "  3\\\\\n",
       "  3\\\\\n",
       "\\end{bmatrix}\\end{equation}"
      ],
      "text/plain": [
       "<IPython.core.display.Latex object>"
      ]
     },
     "metadata": {},
     "output_type": "display_data"
    },
    {
     "data": {
      "text/latex": [
       "\\begin{equation}\\mu_{1}=\\begin{bmatrix}\n",
       "  2\\\\\n",
       "  2\\\\\n",
       "\\end{bmatrix}\\end{equation}"
      ],
      "text/plain": [
       "<IPython.core.display.Latex object>"
      ]
     },
     "metadata": {},
     "output_type": "display_data"
    },
    {
     "data": {
      "text/latex": [
       "$$\\mathbf{Σ}_{j}:$$"
      ],
      "text/plain": [
       "<IPython.core.display.Math object>"
      ]
     },
     "metadata": {},
     "output_type": "display_data"
    },
    {
     "data": {
      "text/latex": [
       "\\begin{equation}\\mathbf{Σ}_{0}=\\begin{bmatrix}\n",
       "  1. & 0.\\\\\n",
       "  0. & 1.\\\\\n",
       "\\end{bmatrix}\\end{equation}"
      ],
      "text/plain": [
       "<IPython.core.display.Latex object>"
      ]
     },
     "metadata": {},
     "output_type": "display_data"
    },
    {
     "data": {
      "text/latex": [
       "\\begin{equation}\\mathbf{Σ}_{1}=\\begin{bmatrix}\n",
       "  1. & 0.\\\\\n",
       "  0. & 1.\\\\\n",
       "\\end{bmatrix}\\end{equation}"
      ],
      "text/plain": [
       "<IPython.core.display.Latex object>"
      ]
     },
     "metadata": {},
     "output_type": "display_data"
    },
    {
     "name": "stdout",
     "output_type": "stream",
     "text": [
      "\n",
      "EM Iteration: 1\n"
     ]
    },
    {
     "data": {
      "text/latex": [
       "\\begin{equation}w_{n,j}=\\begin{bmatrix}\n",
       "  1.19202922e-01 & 8.80797078e-01\\\\\n",
       "  7.31058579e-01 & 2.68941421e-01\\\\\n",
       "  2.68941421e-01 & 7.31058579e-01\\\\\n",
       "  9.99983299e-01 & 1.67014218e-05\\\\\n",
       "  9.99088949e-01 & 9.11051194e-04\\\\\n",
       "  9.99876605e-01 & 1.23394576e-04\\\\\n",
       "  1.67014218e-05 & 9.99983299e-01\\\\\n",
       "  1.67014218e-05 & 9.99983299e-01\\\\\n",
       "  5.60279641e-09 & 9.99999994e-01\\\\\n",
       "\\end{bmatrix}\\end{equation}"
      ],
      "text/plain": [
       "<IPython.core.display.Latex object>"
      ]
     },
     "metadata": {},
     "output_type": "display_data"
    },
    {
     "data": {
      "text/latex": [
       "$$m_{j}:$$"
      ],
      "text/plain": [
       "<IPython.core.display.Math object>"
      ]
     },
     "metadata": {},
     "output_type": "display_data"
    },
    {
     "data": {
      "text/latex": [
       "\\begin{equation}m_{0}=\\begin{bmatrix}\n",
       "  0.45757613\\\\\n",
       "\\end{bmatrix}\\end{equation}"
      ],
      "text/plain": [
       "<IPython.core.display.Latex object>"
      ]
     },
     "metadata": {},
     "output_type": "display_data"
    },
    {
     "data": {
      "text/latex": [
       "\\begin{equation}m_{1}=\\begin{bmatrix}\n",
       "  0.54242387\\\\\n",
       "\\end{bmatrix}\\end{equation}"
      ],
      "text/plain": [
       "<IPython.core.display.Latex object>"
      ]
     },
     "metadata": {},
     "output_type": "display_data"
    },
    {
     "data": {
      "text/latex": [
       "$$\\mu_{j}:$$"
      ],
      "text/plain": [
       "<IPython.core.display.Math object>"
      ]
     },
     "metadata": {},
     "output_type": "display_data"
    },
    {
     "data": {
      "text/latex": [
       "\\begin{equation}\\mu_{0}=\\begin{bmatrix}\n",
       "  5\\\\\n",
       "  5\\\\\n",
       "\\end{bmatrix}\\end{equation}"
      ],
      "text/plain": [
       "<IPython.core.display.Latex object>"
      ]
     },
     "metadata": {},
     "output_type": "display_data"
    },
    {
     "data": {
      "text/latex": [
       "\\begin{equation}\\mu_{1}=\\begin{bmatrix}\n",
       "  -1\\\\\n",
       "  -2\\\\\n",
       "\\end{bmatrix}\\end{equation}"
      ],
      "text/plain": [
       "<IPython.core.display.Latex object>"
      ]
     },
     "metadata": {},
     "output_type": "display_data"
    },
    {
     "data": {
      "text/latex": [
       "$$\\mathbf{Σ}_{j}:$$"
      ],
      "text/plain": [
       "<IPython.core.display.Math object>"
      ]
     },
     "metadata": {},
     "output_type": "display_data"
    },
    {
     "data": {
      "text/latex": [
       "\\begin{equation}\\mathbf{Σ}_{0}=\\begin{bmatrix}\n",
       "  5.16059527 & 0.\\\\\n",
       "  0. & 4.95810656\\\\\n",
       "\\end{bmatrix}\\end{equation}"
      ],
      "text/plain": [
       "<IPython.core.display.Latex object>"
      ]
     },
     "metadata": {},
     "output_type": "display_data"
    },
    {
     "data": {
      "text/latex": [
       "\\begin{equation}\\mathbf{Σ}_{1}=\\begin{bmatrix}\n",
       "  11.36044447 & 0.\\\\\n",
       "  0. & 12.81964129\\\\\n",
       "\\end{bmatrix}\\end{equation}"
      ],
      "text/plain": [
       "<IPython.core.display.Latex object>"
      ]
     },
     "metadata": {},
     "output_type": "display_data"
    },
    {
     "name": "stdout",
     "output_type": "stream",
     "text": [
      "\n",
      "EM Iteration: 2\n"
     ]
    },
    {
     "data": {
      "text/latex": [
       "\\begin{equation}w_{n,j}=\\begin{bmatrix}\n",
       "  4.32801686e-01 & 5.67198314e-01\\\\\n",
       "  9.06838020e-01 & 9.31619801e-02\\\\\n",
       "  6.52001517e-01 & 3.47998483e-01\\\\\n",
       "  9.99152999e-01 & 8.47000780e-04\\\\\n",
       "  9.97106338e-01 & 2.89366227e-03\\\\\n",
       "  9.98603468e-01 & 1.39653162e-03\\\\\n",
       "  1.58461588e-05 & 9.99984154e-01\\\\\n",
       "  1.20234439e-05 & 9.99987977e-01\\\\\n",
       "  2.22930080e-11 & 1.00000000e+00\\\\\n",
       "\\end{bmatrix}\\end{equation}"
      ],
      "text/plain": [
       "<IPython.core.display.Latex object>"
      ]
     },
     "metadata": {},
     "output_type": "display_data"
    },
    {
     "data": {
      "text/latex": [
       "$$m_{j}:$$"
      ],
      "text/plain": [
       "<IPython.core.display.Math object>"
      ]
     },
     "metadata": {},
     "output_type": "display_data"
    },
    {
     "data": {
      "text/latex": [
       "\\begin{equation}m_{0}=\\begin{bmatrix}\n",
       "  0.5540591\\\\\n",
       "\\end{bmatrix}\\end{equation}"
      ],
      "text/plain": [
       "<IPython.core.display.Latex object>"
      ]
     },
     "metadata": {},
     "output_type": "display_data"
    },
    {
     "data": {
      "text/latex": [
       "\\begin{equation}m_{1}=\\begin{bmatrix}\n",
       "  0.4459409\\\\\n",
       "\\end{bmatrix}\\end{equation}"
      ],
      "text/plain": [
       "<IPython.core.display.Latex object>"
      ]
     },
     "metadata": {},
     "output_type": "display_data"
    },
    {
     "data": {
      "text/latex": [
       "$$\\mu_{j}:$$"
      ],
      "text/plain": [
       "<IPython.core.display.Math object>"
      ]
     },
     "metadata": {},
     "output_type": "display_data"
    },
    {
     "data": {
      "text/latex": [
       "\\begin{equation}\\mu_{0}=\\begin{bmatrix}\n",
       "  5\\\\\n",
       "  5\\\\\n",
       "\\end{bmatrix}\\end{equation}"
      ],
      "text/plain": [
       "<IPython.core.display.Latex object>"
      ]
     },
     "metadata": {},
     "output_type": "display_data"
    },
    {
     "data": {
      "text/latex": [
       "\\begin{equation}\\mu_{1}=\\begin{bmatrix}\n",
       "  -2\\\\\n",
       "  -2\\\\\n",
       "\\end{bmatrix}\\end{equation}"
      ],
      "text/plain": [
       "<IPython.core.display.Latex object>"
      ]
     },
     "metadata": {},
     "output_type": "display_data"
    },
    {
     "data": {
      "text/latex": [
       "$$\\mathbf{Σ}_{j}:$$"
      ],
      "text/plain": [
       "<IPython.core.display.Math object>"
      ]
     },
     "metadata": {},
     "output_type": "display_data"
    },
    {
     "data": {
      "text/latex": [
       "\\begin{equation}\\mathbf{Σ}_{0}=\\begin{bmatrix}\n",
       "  6.09756316 & 0.\\\\\n",
       "  0. & 5.49008143\\\\\n",
       "\\end{bmatrix}\\end{equation}"
      ],
      "text/plain": [
       "<IPython.core.display.Latex object>"
      ]
     },
     "metadata": {},
     "output_type": "display_data"
    },
    {
     "data": {
      "text/latex": [
       "\\begin{equation}\\mathbf{Σ}_{1}=\\begin{bmatrix}\n",
       "  9.81316077 & 0.\\\\\n",
       "  0. & 11.79905923\\\\\n",
       "\\end{bmatrix}\\end{equation}"
      ],
      "text/plain": [
       "<IPython.core.display.Latex object>"
      ]
     },
     "metadata": {},
     "output_type": "display_data"
    },
    {
     "name": "stdout",
     "output_type": "stream",
     "text": [
      "\n",
      "EM Iteration: 3\n"
     ]
    },
    {
     "data": {
      "text/latex": [
       "\\begin{equation}w_{n,j}=\\begin{bmatrix}\n",
       "  5.82564888e-01 & 4.17435112e-01\\\\\n",
       "  9.51167580e-01 & 4.88324199e-02\\\\\n",
       "  7.79709646e-01 & 2.20290354e-01\\\\\n",
       "  9.99888742e-01 & 1.11257993e-04\\\\\n",
       "  9.99198575e-01 & 8.01425176e-04\\\\\n",
       "  9.99724233e-01 & 2.75767282e-04\\\\\n",
       "  6.41014122e-05 & 9.99935899e-01\\\\\n",
       "  5.03203675e-05 & 9.99949680e-01\\\\\n",
       "  5.84089838e-10 & 9.99999999e-01\\\\\n",
       "\\end{bmatrix}\\end{equation}"
      ],
      "text/plain": [
       "<IPython.core.display.Latex object>"
      ]
     },
     "metadata": {},
     "output_type": "display_data"
    },
    {
     "data": {
      "text/latex": [
       "$$m_{j}:$$"
      ],
      "text/plain": [
       "<IPython.core.display.Math object>"
      ]
     },
     "metadata": {},
     "output_type": "display_data"
    },
    {
     "data": {
      "text/latex": [
       "\\begin{equation}m_{0}=\\begin{bmatrix}\n",
       "  0.59026312\\\\\n",
       "\\end{bmatrix}\\end{equation}"
      ],
      "text/plain": [
       "<IPython.core.display.Latex object>"
      ]
     },
     "metadata": {},
     "output_type": "display_data"
    },
    {
     "data": {
      "text/latex": [
       "\\begin{equation}m_{1}=\\begin{bmatrix}\n",
       "  0.40973688\\\\\n",
       "\\end{bmatrix}\\end{equation}"
      ],
      "text/plain": [
       "<IPython.core.display.Latex object>"
      ]
     },
     "metadata": {},
     "output_type": "display_data"
    },
    {
     "data": {
      "text/latex": [
       "$$\\mu_{j}:$$"
      ],
      "text/plain": [
       "<IPython.core.display.Math object>"
      ]
     },
     "metadata": {},
     "output_type": "display_data"
    },
    {
     "data": {
      "text/latex": [
       "\\begin{equation}\\mu_{0}=\\begin{bmatrix}\n",
       "  4\\\\\n",
       "  5\\\\\n",
       "\\end{bmatrix}\\end{equation}"
      ],
      "text/plain": [
       "<IPython.core.display.Latex object>"
      ]
     },
     "metadata": {},
     "output_type": "display_data"
    },
    {
     "data": {
      "text/latex": [
       "\\begin{equation}\\mu_{1}=\\begin{bmatrix}\n",
       "  -2\\\\\n",
       "  -3\\\\\n",
       "\\end{bmatrix}\\end{equation}"
      ],
      "text/plain": [
       "<IPython.core.display.Latex object>"
      ]
     },
     "metadata": {},
     "output_type": "display_data"
    },
    {
     "data": {
      "text/latex": [
       "$$\\mathbf{Σ}_{j}:$$"
      ],
      "text/plain": [
       "<IPython.core.display.Math object>"
      ]
     },
     "metadata": {},
     "output_type": "display_data"
    },
    {
     "data": {
      "text/latex": [
       "\\begin{equation}\\mathbf{Σ}_{0}=\\begin{bmatrix}\n",
       "  7.21158142 & 0.\\\\\n",
       "  0. & 5.66045375\\\\\n",
       "\\end{bmatrix}\\end{equation}"
      ],
      "text/plain": [
       "<IPython.core.display.Latex object>"
      ]
     },
     "metadata": {},
     "output_type": "display_data"
    },
    {
     "data": {
      "text/latex": [
       "\\begin{equation}\\mathbf{Σ}_{1}=\\begin{bmatrix}\n",
       "  9.37920677 & 0.\\\\\n",
       "  0. & 9.4388509\\\\\n",
       "\\end{bmatrix}\\end{equation}"
      ],
      "text/plain": [
       "<IPython.core.display.Latex object>"
      ]
     },
     "metadata": {},
     "output_type": "display_data"
    },
    {
     "name": "stdout",
     "output_type": "stream",
     "text": [
      "\n"
     ]
    }
   ],
   "source": [
    "init_mu_2 = np.array([[3, 3], [-3, -3]])\n",
    "em(data = data_points, n_mixture = 2, initial_mu = init_mu_1, iterations = 3, verbose = True)"
   ]
  },
  {
   "cell_type": "markdown",
   "metadata": {},
   "source": [
    "- Plot the log likelihood of the model given the data after each EM step. Compare the log likelihood between using two mixtures and three mixtures. Which one has the better likelihood?"
   ]
  }
 ],
 "metadata": {
  "kernelspec": {
   "display_name": "Python 3",
   "language": "python",
   "name": "python3"
  },
  "language_info": {
   "codemirror_mode": {
    "name": "ipython",
    "version": 3
   },
   "file_extension": ".py",
   "mimetype": "text/x-python",
   "name": "python",
   "nbconvert_exporter": "python",
   "pygments_lexer": "ipython3",
   "version": "3.6.2"
  }
 },
 "nbformat": 4,
 "nbformat_minor": 2
}
