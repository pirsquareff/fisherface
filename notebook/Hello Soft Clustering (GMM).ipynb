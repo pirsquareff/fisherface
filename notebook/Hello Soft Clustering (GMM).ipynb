{
 "cells": [
  {
   "cell_type": "markdown",
   "metadata": {},
   "source": [
    "# Hello Soft Clustering (GMM)\n",
    "**GitHub:** https://github.com/pirsquareff/fisherface\n",
    "\n",
    "Recall from HW1 we did K-means clustering. Fitting a GMM on a set of points can be considered as another method to do clustering but now with soft assignments.\n",
    "\n",
    "Consider the same set of points we used in HW1\n",
    "\n",
    "<img src=\"images/clustering-observation-in-xy-plane.png\" width=\"35%\" height=\"35%\">\n",
    "\n",
    "In class, we showed that we could fit a GMM on 1-dimensional data by using Expectation Maximization (EM). The algorithm for doing EM on N-dimensional GMM is very similar. The exact algorithm is as follows:\n",
    "\n",
    "**Initialization:** Initialize the mixture weights, $\\phi=\\{m_{j}\\}$, where $j$ is the mixture number, means of each Gaussian, $\\mu_{j}$ (now a vector of $N$ dimensions), and covariance matrices of each Gaussian, $Σ_{j}$.<br>\n",
    "**Expectation:** Find the soft assignments for each data point $w_{n, j}$ where $n$ corresponds to the sample index.\n",
    "$$w_{n, j} = \\frac{p(x_{n}; \\overrightarrow{\\mu_{j}}, \\mathbf{Σ}_{j})m_{j}}{\\sum_{j}p(x_{n}; \\overrightarrow{\\mu_{j}}, \\mathbf{Σ}_{j})m_{j}}$$\n",
    "$w_{n, j}$ means the probability that data point $n$ comes from Gaussian number $j$.<br>\n",
    "<div class=\"alert alert-block alert-info\">\n",
    "**Multivariate Normal Distribution (MVN Distribution)**<br>\n",
    "$$f(\\mathbf{x}) = \\frac{1}{(2\\pi)^{d/2}|\\mathbf{Σ}|^{1/2}}exp\\{-\\frac{1}{2}(\\mathbf{x}-\\mathbf{\\mu})^T\\mathbf{Σ}^{-1}(\\mathbf{x}-\\mathbf{\\mu})\\}$$\n",
    "where $d$ is the dimension of data\n",
    "</div>\n",
    "**Maximization:** Update the model parameters, $\\phi$, $\\mu_{j}$, $Σ_{j}$.\n",
    "$$m_{j} = \\frac{1}{N}\\sum_{n}w_{n, j}$$\n",
    "$$\\overrightarrow{\\mu_{j}} = \\frac{\\sum_{n}w_{n,j}\\overrightarrow{x_{n}}}{\\sum_{n}w_{n,j}}$$\n",
    "$$\\mathbf{Σ}_{j} = \\frac{\\sum_{n}w_{n,j}(\\overrightarrow{x_{n}}-\\overrightarrow{\\mu_{j}})(\\overrightarrow{x_{n}}-\\overrightarrow{\\mu_{j}})^T}{\\sum_{n}w_{n,j}}$$\n",
    "\n",
    "<div class=\"alert alert-block alert-info\">\n",
    "The above equation is used for full covariance matrices. For our small toy example, we will use diagonal covariance matrices, which can be acquired by setting the off-diagonal values to zero. In other words, $\\mathbf{Σ}_{(i, j)} = 0$, for $i \\neq j$.\n",
    "</div>\n",
    "\n",
    "**Repeat:** Expectation and maximization step."
   ]
  },
  {
   "cell_type": "code",
   "execution_count": 326,
   "metadata": {
    "collapsed": true
   },
   "outputs": [],
   "source": [
    "import numpy as np\n",
    "from IPython.display import Latex\n",
    "from IPython.display import Math\n",
    "from IPython.display import display\n",
    "import matplotlib.pyplot as plt"
   ]
  },
  {
   "cell_type": "code",
   "execution_count": 327,
   "metadata": {
    "collapsed": true
   },
   "outputs": [],
   "source": [
    "data_points = np.array([[1., 2.], [3., 3.], [2., 2.], [8., 8.], [6., 6.], [7., 7.], [-3., -3.], [-2., -4.], [-7., -7.]]) "
   ]
  },
  {
   "cell_type": "code",
   "execution_count": 328,
   "metadata": {
    "collapsed": true
   },
   "outputs": [],
   "source": [
    "def latex_bmatrix(a):\n",
    "    \"\"\"Returns a LaTeX bmatrix\n",
    "    :a: numpy array\n",
    "    :returns: LaTeX bmatrix as a string\n",
    "    \"\"\"\n",
    "    if len(a.shape) > 2:\n",
    "        raise ValueError('bmatrix can at most display two dimensions')\n",
    "    lines = str(a).replace('[', '').replace(']', '').splitlines()\n",
    "    rv = [r'\\begin{bmatrix}']\n",
    "    rv += ['  ' + ' & '.join(l.split()) + r'\\\\' for l in lines]\n",
    "    rv +=  [r'\\end{bmatrix}']\n",
    "    return '\\n'.join(rv)"
   ]
  },
  {
   "cell_type": "code",
   "execution_count": 329,
   "metadata": {
    "collapsed": true
   },
   "outputs": [],
   "source": [
    "# define multivariate normal distribution (MVN distribution)\n",
    "def mvn(x, mu, sigma):\n",
    "    return np.linalg.det(sigma) ** -.5 ** (2 * np.pi) ** (-x.shape[1] / 2.) \\\n",
    "                * np.exp(-.5 * np.einsum('ij, ij -> i', \\\n",
    "                x - mu, np.dot(np.linalg.inv(sigma), (x - mu).T).T))"
   ]
  },
  {
   "cell_type": "code",
   "execution_count": 330,
   "metadata": {
    "collapsed": true
   },
   "outputs": [],
   "source": [
    "def em(data, n_mixture, initial_mu = None, iterations = 1000, verbose = False):\n",
    "    \"\"\"Do expectation maximization (EM) on N-dimensional GMM\n",
    "    :data: data in N-dimension\n",
    "    :n_mixture: a number of mixture\n",
    "    :initial_mu: initialized Gaussian means\n",
    "    :iterations: a maximum round to do repeat step\n",
    "    :verbose: set True to show significant values at each iteration\n",
    "    \"\"\"\n",
    "    # n_data: number of data points\n",
    "    # dimension: dimension of data points\n",
    "    n_data, dimension = data.shape\n",
    "\n",
    "    ## INITIALIZATION STEP ##\n",
    "    # initialize mixture weight of each Gaussian equally (ϕ: phi)\n",
    "    phi = [1./n_mixture] * n_mixture\n",
    "    \n",
    "    if initial_mu is not None:\n",
    "        mu = np.array(initial_mu)\n",
    "    else:\n",
    "        # randomly initialize means of each Gaussian (μ: mu)\n",
    "        mu = data[np.random.choice(n_data, size = n_mixture, replace = False), :]\n",
    "    \n",
    "    # initialize covariance matrices of each Gaussian (Σ: sigma)\n",
    "    \"\"\"\n",
    "    numpy.eye(N)\n",
    "    :N: Number of rows in the output.\n",
    "    :return: A 2-D array w/ ones on the diagonal and zeros elsewhere.\n",
    "    \"\"\"\n",
    "    sigma = [np.eye(dimension)] * n_mixture\n",
    "\n",
    "    # initialize log_likelihoods\n",
    "    log_likelihoods = []\n",
    "    \n",
    "    if(verbose):\n",
    "        print(\"Initialization:\")\n",
    "        display(Math(r\"m_{j}:\"))\n",
    "        for j in range(n_mixture):\n",
    "            display(Latex(r\"\\begin{equation}m_{\" + str(j) + \"}=\" + latex_bmatrix(np.matrix(phi[j])) + \"\\end{equation}\"))\n",
    "        display(Math(r\"\\mu_{j}:\"))\n",
    "        for j in range(n_mixture):\n",
    "            display(Latex(r\"\\begin{equation}\\mu_{\" + str(j) + \"}=\" + latex_bmatrix(np.matrix(mu[j]).T) + \"\\end{equation}\"))\n",
    "        display(Math(r\"\\mathbf{Σ}_{j}:\"))\n",
    "        for j in range(n_mixture):\n",
    "            display(Latex(r\"\\begin{equation}\\mathbf{Σ}_{\" + str(j) + \"}=\" + latex_bmatrix(sigma[j]) + \"\\end{equation}\"))\n",
    "        print()\n",
    "    \n",
    "    for i in range(iterations) :\n",
    "        ## EXPECTATION STEP ##\n",
    "        # set soft labels (w)\n",
    "        w_numerator = np.zeros((n_data, n_mixture))\n",
    "        for j in range(n_mixture):\n",
    "            w_numerator[:, j] = phi[j] * mvn(data, mu[j], sigma[j])\n",
    "        w = (w_numerator.T / np.sum(w_numerator, axis = 1)).T\n",
    "        w_j = np.sum(w, axis = 0)\n",
    "        \n",
    "        ## MAXIMIZATION STEP ##\n",
    "        for j in range(n_mixture):\n",
    "            # update mixture weight\n",
    "            phi[j] = 1. / n_data * w_j[j]\n",
    "            \n",
    "            # update mean\n",
    "            mu[j] = np.sum(w[:, j] * data.T, axis = 1).T / w_j[j]\n",
    "\n",
    "            # update sigma\n",
    "            x_mu = np.matrix(data - mu[j])\n",
    "            sigma[j] = np.array(np.dot(np.multiply(x_mu.T, w[:, j]), x_mu) / w_j[j])\n",
    "            \n",
    "            # set the off-diagonal values to zero\n",
    "            sigma[j] = np.diag(np.diag(sigma[j]))\n",
    "        \n",
    "        # calulate log likelihood\n",
    "        log_likelihood = np.sum(np.log(np.sum(w_numerator, axis = 1)))\n",
    "        log_likelihoods.append(log_likelihood)\n",
    "        \n",
    "        if(verbose):\n",
    "            print(\"EM Iteration: \" + str(i + 1))\n",
    "            display(Latex(r\"\\begin{equation}w_{n,j}=\" + latex_bmatrix(w) + \"\\end{equation}\"))\n",
    "            # for j in range(n_mixture):\n",
    "            #     display(Latex(r\"\\begin{equation}w_{n,\" + str(j) + \"}=\" + latex_bmatrix(w[:, j]) + \"\\end{equation}\"))\n",
    "            display(Math(r\"m_{j}:\"))\n",
    "            for j in range(n_mixture):\n",
    "                display(Latex(r\"\\begin{equation}m_{\" + str(j) + \"}=\" + latex_bmatrix(np.matrix(phi[j])) + \"\\end{equation}\"))\n",
    "            display(Math(r\"\\mu_{j}:\"))\n",
    "            for j in range(n_mixture):\n",
    "                display(Latex(r\"\\begin{equation}\\mu_{\" + str(j) + \"}=\" + latex_bmatrix(np.matrix(mu[j]).T) + \"\\end{equation}\"))\n",
    "            display(Math(r\"\\mathbf{Σ}_{j}:\"))\n",
    "            for j in range(n_mixture):\n",
    "                display(Latex(r\"\\begin{equation}\\mathbf{Σ}_{\" + str(j) + \"}=\" + latex_bmatrix(sigma[j]) + \"\\end{equation}\"))\n",
    "            print()\n",
    "    return log_likelihoods, mu, sigma"
   ]
  },
  {
   "cell_type": "markdown",
   "metadata": {},
   "source": [
    "**Using 3 mixtures, initialize your Gaussian with means $(3,3)$, $(2,2)$, and $(-3,-3)$, and standard Covariance, $\\textbf{I}$, the identity matrix. Use equal mixture weights as the initial weights. Repeat three iterations of EM. Write down $w_{n,j}, m_{j}, \\mu_{j}, \\mathbf{Σ}_{j}$ for each EM iteration. (You may do the calculations by hand or write code to do so)**\n",
    "\n",
    "<font color=red>**Answer**</font><br>"
   ]
  },
  {
   "cell_type": "code",
   "execution_count": 331,
   "metadata": {},
   "outputs": [
    {
     "name": "stdout",
     "output_type": "stream",
     "text": [
      "Initialization:\n"
     ]
    },
    {
     "data": {
      "text/latex": [
       "$$m_{j}:$$"
      ],
      "text/plain": [
       "<IPython.core.display.Math object>"
      ]
     },
     "metadata": {},
     "output_type": "display_data"
    },
    {
     "data": {
      "text/latex": [
       "\\begin{equation}m_{0}=\\begin{bmatrix}\n",
       "  0.33333333\\\\\n",
       "\\end{bmatrix}\\end{equation}"
      ],
      "text/plain": [
       "<IPython.core.display.Latex object>"
      ]
     },
     "metadata": {},
     "output_type": "display_data"
    },
    {
     "data": {
      "text/latex": [
       "\\begin{equation}m_{1}=\\begin{bmatrix}\n",
       "  0.33333333\\\\\n",
       "\\end{bmatrix}\\end{equation}"
      ],
      "text/plain": [
       "<IPython.core.display.Latex object>"
      ]
     },
     "metadata": {},
     "output_type": "display_data"
    },
    {
     "data": {
      "text/latex": [
       "\\begin{equation}m_{2}=\\begin{bmatrix}\n",
       "  0.33333333\\\\\n",
       "\\end{bmatrix}\\end{equation}"
      ],
      "text/plain": [
       "<IPython.core.display.Latex object>"
      ]
     },
     "metadata": {},
     "output_type": "display_data"
    },
    {
     "data": {
      "text/latex": [
       "$$\\mu_{j}:$$"
      ],
      "text/plain": [
       "<IPython.core.display.Math object>"
      ]
     },
     "metadata": {},
     "output_type": "display_data"
    },
    {
     "data": {
      "text/latex": [
       "\\begin{equation}\\mu_{0}=\\begin{bmatrix}\n",
       "  3.\\\\\n",
       "  3.\\\\\n",
       "\\end{bmatrix}\\end{equation}"
      ],
      "text/plain": [
       "<IPython.core.display.Latex object>"
      ]
     },
     "metadata": {},
     "output_type": "display_data"
    },
    {
     "data": {
      "text/latex": [
       "\\begin{equation}\\mu_{1}=\\begin{bmatrix}\n",
       "  2.\\\\\n",
       "  2.\\\\\n",
       "\\end{bmatrix}\\end{equation}"
      ],
      "text/plain": [
       "<IPython.core.display.Latex object>"
      ]
     },
     "metadata": {},
     "output_type": "display_data"
    },
    {
     "data": {
      "text/latex": [
       "\\begin{equation}\\mu_{2}=\\begin{bmatrix}\n",
       "  -3.\\\\\n",
       "  -3.\\\\\n",
       "\\end{bmatrix}\\end{equation}"
      ],
      "text/plain": [
       "<IPython.core.display.Latex object>"
      ]
     },
     "metadata": {},
     "output_type": "display_data"
    },
    {
     "data": {
      "text/latex": [
       "$$\\mathbf{Σ}_{j}:$$"
      ],
      "text/plain": [
       "<IPython.core.display.Math object>"
      ]
     },
     "metadata": {},
     "output_type": "display_data"
    },
    {
     "data": {
      "text/latex": [
       "\\begin{equation}\\mathbf{Σ}_{0}=\\begin{bmatrix}\n",
       "  1. & 0.\\\\\n",
       "  0. & 1.\\\\\n",
       "\\end{bmatrix}\\end{equation}"
      ],
      "text/plain": [
       "<IPython.core.display.Latex object>"
      ]
     },
     "metadata": {},
     "output_type": "display_data"
    },
    {
     "data": {
      "text/latex": [
       "\\begin{equation}\\mathbf{Σ}_{1}=\\begin{bmatrix}\n",
       "  1. & 0.\\\\\n",
       "  0. & 1.\\\\\n",
       "\\end{bmatrix}\\end{equation}"
      ],
      "text/plain": [
       "<IPython.core.display.Latex object>"
      ]
     },
     "metadata": {},
     "output_type": "display_data"
    },
    {
     "data": {
      "text/latex": [
       "\\begin{equation}\\mathbf{Σ}_{2}=\\begin{bmatrix}\n",
       "  1. & 0.\\\\\n",
       "  0. & 1.\\\\\n",
       "\\end{bmatrix}\\end{equation}"
      ],
      "text/plain": [
       "<IPython.core.display.Latex object>"
      ]
     },
     "metadata": {},
     "output_type": "display_data"
    },
    {
     "name": "stdout",
     "output_type": "stream",
     "text": [
      "\n",
      "EM Iteration: 1\n"
     ]
    },
    {
     "data": {
      "text/latex": [
       "\\begin{equation}w_{n,j}=\\begin{bmatrix}\n",
       "  1.19202922e-01 & 8.80797076e-01 & 1.81545808e-09\\\\\n",
       "  7.31058579e-01 & 2.68941421e-01 & 1.69570706e-16\\\\\n",
       "  2.68941421e-01 & 7.31058579e-01 & 1.01529005e-11\\\\\n",
       "  9.99983299e-01 & 1.67014218e-05 & 2.03105874e-42\\\\\n",
       "  9.99088949e-01 & 9.11051194e-04 & 5.37528453e-32\\\\\n",
       "  9.99876605e-01 & 1.23394576e-04 & 3.30529272e-37\\\\\n",
       "  2.31952283e-16 & 1.38879439e-11 & 1.00000000e+00\\\\\n",
       "  2.31952283e-16 & 1.38879439e-11 & 1.00000000e+00\\\\\n",
       "  3.30570063e-37 & 5.90009054e-29 & 1.00000000e+00\\\\\n",
       "\\end{bmatrix}\\end{equation}"
      ],
      "text/plain": [
       "<IPython.core.display.Latex object>"
      ]
     },
     "metadata": {},
     "output_type": "display_data"
    },
    {
     "data": {
      "text/latex": [
       "$$m_{j}:$$"
      ],
      "text/plain": [
       "<IPython.core.display.Math object>"
      ]
     },
     "metadata": {},
     "output_type": "display_data"
    },
    {
     "data": {
      "text/latex": [
       "\\begin{equation}m_{0}=\\begin{bmatrix}\n",
       "  0.45757242\\\\\n",
       "\\end{bmatrix}\\end{equation}"
      ],
      "text/plain": [
       "<IPython.core.display.Latex object>"
      ]
     },
     "metadata": {},
     "output_type": "display_data"
    },
    {
     "data": {
      "text/latex": [
       "\\begin{equation}m_{1}=\\begin{bmatrix}\n",
       "  0.20909425\\\\\n",
       "\\end{bmatrix}\\end{equation}"
      ],
      "text/plain": [
       "<IPython.core.display.Latex object>"
      ]
     },
     "metadata": {},
     "output_type": "display_data"
    },
    {
     "data": {
      "text/latex": [
       "\\begin{equation}m_{2}=\\begin{bmatrix}\n",
       "  0.33333333\\\\\n",
       "\\end{bmatrix}\\end{equation}"
      ],
      "text/plain": [
       "<IPython.core.display.Latex object>"
      ]
     },
     "metadata": {},
     "output_type": "display_data"
    },
    {
     "data": {
      "text/latex": [
       "$$\\mu_{j}:$$"
      ],
      "text/plain": [
       "<IPython.core.display.Math object>"
      ]
     },
     "metadata": {},
     "output_type": "display_data"
    },
    {
     "data": {
      "text/latex": [
       "\\begin{equation}\\mu_{0}=\\begin{bmatrix}\n",
       "  5.78992692\\\\\n",
       "  5.81887265\\\\\n",
       "\\end{bmatrix}\\end{equation}"
      ],
      "text/plain": [
       "<IPython.core.display.Latex object>"
      ]
     },
     "metadata": {},
     "output_type": "display_data"
    },
    {
     "data": {
      "text/latex": [
       "\\begin{equation}\\mu_{1}=\\begin{bmatrix}\n",
       "  1.67718211\\\\\n",
       "  2.14523106\\\\\n",
       "\\end{bmatrix}\\end{equation}"
      ],
      "text/plain": [
       "<IPython.core.display.Latex object>"
      ]
     },
     "metadata": {},
     "output_type": "display_data"
    },
    {
     "data": {
      "text/latex": [
       "\\begin{equation}\\mu_{2}=\\begin{bmatrix}\n",
       "  -4.\\\\\n",
       "  -4.66666666\\\\\n",
       "\\end{bmatrix}\\end{equation}"
      ],
      "text/plain": [
       "<IPython.core.display.Latex object>"
      ]
     },
     "metadata": {},
     "output_type": "display_data"
    },
    {
     "data": {
      "text/latex": [
       "$$\\mathbf{Σ}_{j}:$$"
      ],
      "text/plain": [
       "<IPython.core.display.Math object>"
      ]
     },
     "metadata": {},
     "output_type": "display_data"
    },
    {
     "data": {
      "text/latex": [
       "\\begin{equation}\\mathbf{Σ}_{0}=\\begin{bmatrix}\n",
       "  4.53619412 & 0.\\\\\n",
       "  0. & 4.28700611\\\\\n",
       "\\end{bmatrix}\\end{equation}"
      ],
      "text/plain": [
       "<IPython.core.display.Latex object>"
      ]
     },
     "metadata": {},
     "output_type": "display_data"
    },
    {
     "data": {
      "text/latex": [
       "\\begin{equation}\\mathbf{Σ}_{1}=\\begin{bmatrix}\n",
       "  0.51645579 & 0.\\\\\n",
       "  0. & 0.13152618\\\\\n",
       "\\end{bmatrix}\\end{equation}"
      ],
      "text/plain": [
       "<IPython.core.display.Latex object>"
      ]
     },
     "metadata": {},
     "output_type": "display_data"
    },
    {
     "data": {
      "text/latex": [
       "\\begin{equation}\\mathbf{Σ}_{2}=\\begin{bmatrix}\n",
       "  4.66666668 & 0.\\\\\n",
       "  0. & 2.88888891\\\\\n",
       "\\end{bmatrix}\\end{equation}"
      ],
      "text/plain": [
       "<IPython.core.display.Latex object>"
      ]
     },
     "metadata": {},
     "output_type": "display_data"
    },
    {
     "name": "stdout",
     "output_type": "stream",
     "text": [
      "\n",
      "EM Iteration: 2\n"
     ]
    },
    {
     "data": {
      "text/latex": [
       "\\begin{equation}w_{n,j}=\\begin{bmatrix}\n",
       "  3.39167831e-004 & 9.99660094e-001 & 7.38431268e-007\\\\\n",
       "  1.68530231e-001 & 8.31469565e-001 & 2.03479091e-007\\\\\n",
       "  6.19462818e-004 & 9.99380376e-001 & 1.61193194e-007\\\\\n",
       "  1.00000000e+000 & 8.56979970e-072 & 5.23754338e-019\\\\\n",
       "  1.00000000e+000 & 2.98223841e-031 & 6.35721283e-014\\\\\n",
       "  1.00000000e+000 & 1.50200694e-049 & 1.92474303e-016\\\\\n",
       "  4.09720802e-008 & 1.60500376e-051 & 9.99999959e-001\\\\\n",
       "  2.66884795e-008 & 1.10151305e-066 & 9.99999973e-001\\\\\n",
       "  4.66728068e-016 & 8.81687523e-168 & 1.00000000e+000\\\\\n",
       "\\end{bmatrix}\\end{equation}"
      ],
      "text/plain": [
       "<IPython.core.display.Latex object>"
      ]
     },
     "metadata": {},
     "output_type": "display_data"
    },
    {
     "data": {
      "text/latex": [
       "$$m_{j}:$$"
      ],
      "text/plain": [
       "<IPython.core.display.Math object>"
      ]
     },
     "metadata": {},
     "output_type": "display_data"
    },
    {
     "data": {
      "text/latex": [
       "\\begin{equation}m_{0}=\\begin{bmatrix}\n",
       "  0.35216544\\\\\n",
       "\\end{bmatrix}\\end{equation}"
      ],
      "text/plain": [
       "<IPython.core.display.Latex object>"
      ]
     },
     "metadata": {},
     "output_type": "display_data"
    },
    {
     "data": {
      "text/latex": [
       "\\begin{equation}m_{1}=\\begin{bmatrix}\n",
       "  0.31450111\\\\\n",
       "\\end{bmatrix}\\end{equation}"
      ],
      "text/plain": [
       "<IPython.core.display.Latex object>"
      ]
     },
     "metadata": {},
     "output_type": "display_data"
    },
    {
     "data": {
      "text/latex": [
       "\\begin{equation}m_{2}=\\begin{bmatrix}\n",
       "  0.33333345\\\\\n",
       "\\end{bmatrix}\\end{equation}"
      ],
      "text/plain": [
       "<IPython.core.display.Latex object>"
      ]
     },
     "metadata": {},
     "output_type": "display_data"
    },
    {
     "data": {
      "text/latex": [
       "$$\\mu_{j}:$$"
      ],
      "text/plain": [
       "<IPython.core.display.Math object>"
      ]
     },
     "metadata": {},
     "output_type": "display_data"
    },
    {
     "data": {
      "text/latex": [
       "\\begin{equation}\\mu_{0}=\\begin{bmatrix}\n",
       "  6.78568977\\\\\n",
       "  6.78579677\\\\\n",
       "\\end{bmatrix}\\end{equation}"
      ],
      "text/plain": [
       "<IPython.core.display.Latex object>"
      ]
     },
     "metadata": {},
     "output_type": "display_data"
    },
    {
     "data": {
      "text/latex": [
       "\\begin{equation}\\mu_{1}=\\begin{bmatrix}\n",
       "  1.94057943\\\\\n",
       "  2.29375256\\\\\n",
       "\\end{bmatrix}\\end{equation}"
      ],
      "text/plain": [
       "<IPython.core.display.Latex object>"
      ]
     },
     "metadata": {},
     "output_type": "display_data"
    },
    {
     "data": {
      "text/latex": [
       "\\begin{equation}\\mu_{2}=\\begin{bmatrix}\n",
       "  -3.999998\\\\\n",
       "  -4.66666418\\\\\n",
       "\\end{bmatrix}\\end{equation}"
      ],
      "text/plain": [
       "<IPython.core.display.Latex object>"
      ]
     },
     "metadata": {},
     "output_type": "display_data"
    },
    {
     "data": {
      "text/latex": [
       "$$\\mathbf{Σ}_{j}:$$"
      ],
      "text/plain": [
       "<IPython.core.display.Math object>"
      ]
     },
     "metadata": {},
     "output_type": "display_data"
    },
    {
     "data": {
      "text/latex": [
       "\\begin{equation}\\mathbf{Σ}_{0}=\\begin{bmatrix}\n",
       "  1.44459111 & 0.\\\\\n",
       "  0. & 1.44346018\\\\\n",
       "\\end{bmatrix}\\end{equation}"
      ],
      "text/plain": [
       "<IPython.core.display.Latex object>"
      ]
     },
     "metadata": {},
     "output_type": "display_data"
    },
    {
     "data": {
      "text/latex": [
       "\\begin{equation}\\mathbf{Σ}_{1}=\\begin{bmatrix}\n",
       "  0.64339489 & 0.\\\\\n",
       "  0. & 0.20746199\\\\\n",
       "\\end{bmatrix}\\end{equation}"
      ],
      "text/plain": [
       "<IPython.core.display.Latex object>"
      ]
     },
     "metadata": {},
     "output_type": "display_data"
    },
    {
     "data": {
      "text/latex": [
       "\\begin{equation}\\mathbf{Σ}_{2}=\\begin{bmatrix}\n",
       "  4.66667642 & 0.\\\\\n",
       "  0. & 2.88890516\\\\\n",
       "\\end{bmatrix}\\end{equation}"
      ],
      "text/plain": [
       "<IPython.core.display.Latex object>"
      ]
     },
     "metadata": {},
     "output_type": "display_data"
    },
    {
     "name": "stdout",
     "output_type": "stream",
     "text": [
      "\n",
      "EM Iteration: 3\n"
     ]
    },
    {
     "data": {
      "text/latex": [
       "\\begin{equation}w_{n,j}=\\begin{bmatrix}\n",
       "  7.79251215e-010 & 9.99998695e-001 & 1.30375789e-006\\\\\n",
       "  3.72042267e-005 & 9.99962769e-001 & 2.71031121e-008\\\\\n",
       "  1.52527299e-008 & 9.99999782e-001 & 2.02282581e-007\\\\\n",
       "  1.00000000e+000 & 9.77384884e-046 & 8.57363400e-020\\\\\n",
       "  1.00000000e+000 & 1.84671721e-019 & 1.70034901e-014\\\\\n",
       "  1.00000000e+000 & 1.62804751e-031 & 2.52811155e-017\\\\\n",
       "  1.60254688e-028 & 2.84934429e-036 & 1.00000000e+000\\\\\n",
       "  7.34392666e-029 & 1.94044935e-045 & 1.00000000e+000\\\\\n",
       "  2.63486407e-056 & 1.63565402e-115 & 1.00000000e+000\\\\\n",
       "\\end{bmatrix}\\end{equation}"
      ],
      "text/plain": [
       "<IPython.core.display.Latex object>"
      ]
     },
     "metadata": {},
     "output_type": "display_data"
    },
    {
     "data": {
      "text/latex": [
       "$$m_{j}:$$"
      ],
      "text/plain": [
       "<IPython.core.display.Math object>"
      ]
     },
     "metadata": {},
     "output_type": "display_data"
    },
    {
     "data": {
      "text/latex": [
       "\\begin{equation}m_{0}=\\begin{bmatrix}\n",
       "  0.33333747\\\\\n",
       "\\end{bmatrix}\\end{equation}"
      ],
      "text/plain": [
       "<IPython.core.display.Latex object>"
      ]
     },
     "metadata": {},
     "output_type": "display_data"
    },
    {
     "data": {
      "text/latex": [
       "\\begin{equation}m_{1}=\\begin{bmatrix}\n",
       "  0.33332903\\\\\n",
       "\\end{bmatrix}\\end{equation}"
      ],
      "text/plain": [
       "<IPython.core.display.Latex object>"
      ]
     },
     "metadata": {},
     "output_type": "display_data"
    },
    {
     "data": {
      "text/latex": [
       "\\begin{equation}m_{2}=\\begin{bmatrix}\n",
       "  0.3333335\\\\\n",
       "\\end{bmatrix}\\end{equation}"
      ],
      "text/plain": [
       "<IPython.core.display.Latex object>"
      ]
     },
     "metadata": {},
     "output_type": "display_data"
    },
    {
     "data": {
      "text/latex": [
       "$$\\mu_{j}:$$"
      ],
      "text/plain": [
       "<IPython.core.display.Math object>"
      ]
     },
     "metadata": {},
     "output_type": "display_data"
    },
    {
     "data": {
      "text/latex": [
       "\\begin{equation}\\mu_{0}=\\begin{bmatrix}\n",
       "  6.99995037\\\\\n",
       "  6.99995037\\\\\n",
       "\\end{bmatrix}\\end{equation}"
      ],
      "text/plain": [
       "<IPython.core.display.Latex object>"
      ]
     },
     "metadata": {},
     "output_type": "display_data"
    },
    {
     "data": {
      "text/latex": [
       "\\begin{equation}\\mu_{1}=\\begin{bmatrix}\n",
       "  1.99998802\\\\\n",
       "  2.33332523\\\\\n",
       "\\end{bmatrix}\\end{equation}"
      ],
      "text/plain": [
       "<IPython.core.display.Latex object>"
      ]
     },
     "metadata": {},
     "output_type": "display_data"
    },
    {
     "data": {
      "text/latex": [
       "\\begin{equation}\\mu_{2}=\\begin{bmatrix}\n",
       "  -3.99999736\\\\\n",
       "  -4.66666325\\\\\n",
       "\\end{bmatrix}\\end{equation}"
      ],
      "text/plain": [
       "<IPython.core.display.Latex object>"
      ]
     },
     "metadata": {},
     "output_type": "display_data"
    },
    {
     "data": {
      "text/latex": [
       "$$\\mathbf{Σ}_{j}:$$"
      ],
      "text/plain": [
       "<IPython.core.display.Math object>"
      ]
     },
     "metadata": {},
     "output_type": "display_data"
    },
    {
     "data": {
      "text/latex": [
       "\\begin{equation}\\mathbf{Σ}_{0}=\\begin{bmatrix}\n",
       "  0.66685695 & 0.\\\\\n",
       "  0. & 0.66685695\\\\\n",
       "\\end{bmatrix}\\end{equation}"
      ],
      "text/plain": [
       "<IPython.core.display.Latex object>"
      ]
     },
     "metadata": {},
     "output_type": "display_data"
    },
    {
     "data": {
      "text/latex": [
       "\\begin{equation}\\mathbf{Σ}_{1}=\\begin{bmatrix}\n",
       "  0.66666243 & 0.\\\\\n",
       "  0. & 0.22221952\\\\\n",
       "\\end{bmatrix}\\end{equation}"
      ],
      "text/plain": [
       "<IPython.core.display.Latex object>"
      ]
     },
     "metadata": {},
     "output_type": "display_data"
    },
    {
     "data": {
      "text/latex": [
       "\\begin{equation}\\mathbf{Σ}_{2}=\\begin{bmatrix}\n",
       "  4.66667802 & 0.\\\\\n",
       "  0. & 2.88891026\\\\\n",
       "\\end{bmatrix}\\end{equation}"
      ],
      "text/plain": [
       "<IPython.core.display.Latex object>"
      ]
     },
     "metadata": {},
     "output_type": "display_data"
    },
    {
     "name": "stdout",
     "output_type": "stream",
     "text": [
      "\n"
     ]
    }
   ],
   "source": [
    "init_mu_1 = np.array([[3., 3.], [2., 2.], [-3., -3.]])\n",
    "log_likelihoods_1, mu_1, sigma_1 = em(data = data_points, n_mixture = 3, initial_mu = init_mu_1, iterations = 3, verbose = True)"
   ]
  },
  {
   "cell_type": "markdown",
   "metadata": {},
   "source": [
    "**Plot the log likelihood of the model given the data after each EM step. In other words, plot $\\log\\prod_np(x_{n}|\\phi, \\overrightarrow{\\mu},\\mathbf{Σ})$. Does it goes up every iteration just as we learned in class?**<br>\n",
    "<font color=red>**Answer**</font><br>\n",
    "Yes, the log likelihood goes up every iteration."
   ]
  },
  {
   "cell_type": "code",
   "execution_count": 332,
   "metadata": {},
   "outputs": [
    {
     "name": "stdout",
     "output_type": "stream",
     "text": [
      "[-76.633007639875359, -27.49022552850629, -21.110771547526188]\n"
     ]
    },
    {
     "data": {
      "image/png": "[encoded data removed]",
      "text/plain": [
       "<matplotlib.figure.Figure at 0x7fe8f18c2278>"
      ]
     },
     "metadata": {},
     "output_type": "display_data"
    }
   ],
   "source": [
    "print(log_likelihoods_1)\n",
    "plt.plot([i + 1 for i in range(len(log_likelihoods_1))], log_likelihoods_1, 'ro')\n",
    "plt.axis([0, 4, -100, 0])\n",
    "plt.xlabel('Iteration')\n",
    "plt.ylabel('Log Likelihood')\n",
    "plt.show()"
   ]
  },
  {
   "cell_type": "code",
   "execution_count": 333,
   "metadata": {},
   "outputs": [
    {
     "data": {
      "image/png": "[encoded data removed]",
      "text/plain": [
       "<matplotlib.figure.Figure at 0x7fe8f1c12390>"
      ]
     },
     "metadata": {},
     "output_type": "display_data"
    }
   ],
   "source": [
    "for i in range(len(mu_1)):\n",
    "    x, y = np.random.multivariate_normal(mu_1[i], sigma_1[i], 500).T\n",
    "    plt.plot(x, y, 'x')\n",
    "    plt.axis('equal')\n",
    "plt.plot(data_points.T[0], data_points.T[1], '^', color = 'purple')\n",
    "plt.show()"
   ]
  },
  {
   "cell_type": "markdown",
   "metadata": {},
   "source": [
    "**Using 2 mixtures, initialize your Gaussian with means $(3,3)$ and $(-3,-3)$, and standard Covariance, $\\mathbf{I}$, the identity matrix. Use equal mixture weights as the initial weights. Repeat three iterations of EM. Write down $w_{n, j}, m_{j}, \\mu_{j}, \\mathbf{Σ}_{j}$ for each EM iteration.**\n",
    "\n",
    "<font color=red>**Answer**</font><br>"
   ]
  },
  {
   "cell_type": "code",
   "execution_count": 334,
   "metadata": {},
   "outputs": [
    {
     "name": "stdout",
     "output_type": "stream",
     "text": [
      "Initialization:\n"
     ]
    },
    {
     "data": {
      "text/latex": [
       "$$m_{j}:$$"
      ],
      "text/plain": [
       "<IPython.core.display.Math object>"
      ]
     },
     "metadata": {},
     "output_type": "display_data"
    },
    {
     "data": {
      "text/latex": [
       "\\begin{equation}m_{0}=\\begin{bmatrix}\n",
       "  0.5\\\\\n",
       "\\end{bmatrix}\\end{equation}"
      ],
      "text/plain": [
       "<IPython.core.display.Latex object>"
      ]
     },
     "metadata": {},
     "output_type": "display_data"
    },
    {
     "data": {
      "text/latex": [
       "\\begin{equation}m_{1}=\\begin{bmatrix}\n",
       "  0.5\\\\\n",
       "\\end{bmatrix}\\end{equation}"
      ],
      "text/plain": [
       "<IPython.core.display.Latex object>"
      ]
     },
     "metadata": {},
     "output_type": "display_data"
    },
    {
     "data": {
      "text/latex": [
       "$$\\mu_{j}:$$"
      ],
      "text/plain": [
       "<IPython.core.display.Math object>"
      ]
     },
     "metadata": {},
     "output_type": "display_data"
    },
    {
     "data": {
      "text/latex": [
       "\\begin{equation}\\mu_{0}=\\begin{bmatrix}\n",
       "  3.\\\\\n",
       "  3.\\\\\n",
       "\\end{bmatrix}\\end{equation}"
      ],
      "text/plain": [
       "<IPython.core.display.Latex object>"
      ]
     },
     "metadata": {},
     "output_type": "display_data"
    },
    {
     "data": {
      "text/latex": [
       "\\begin{equation}\\mu_{1}=\\begin{bmatrix}\n",
       "  -3.\\\\\n",
       "  -3.\\\\\n",
       "\\end{bmatrix}\\end{equation}"
      ],
      "text/plain": [
       "<IPython.core.display.Latex object>"
      ]
     },
     "metadata": {},
     "output_type": "display_data"
    },
    {
     "data": {
      "text/latex": [
       "$$\\mathbf{Σ}_{j}:$$"
      ],
      "text/plain": [
       "<IPython.core.display.Math object>"
      ]
     },
     "metadata": {},
     "output_type": "display_data"
    },
    {
     "data": {
      "text/latex": [
       "\\begin{equation}\\mathbf{Σ}_{0}=\\begin{bmatrix}\n",
       "  1. & 0.\\\\\n",
       "  0. & 1.\\\\\n",
       "\\end{bmatrix}\\end{equation}"
      ],
      "text/plain": [
       "<IPython.core.display.Latex object>"
      ]
     },
     "metadata": {},
     "output_type": "display_data"
    },
    {
     "data": {
      "text/latex": [
       "\\begin{equation}\\mathbf{Σ}_{1}=\\begin{bmatrix}\n",
       "  1. & 0.\\\\\n",
       "  0. & 1.\\\\\n",
       "\\end{bmatrix}\\end{equation}"
      ],
      "text/plain": [
       "<IPython.core.display.Latex object>"
      ]
     },
     "metadata": {},
     "output_type": "display_data"
    },
    {
     "name": "stdout",
     "output_type": "stream",
     "text": [
      "\n",
      "EM Iteration: 1\n"
     ]
    },
    {
     "data": {
      "text/latex": [
       "\\begin{equation}w_{n,j}=\\begin{bmatrix}\n",
       "  9.99999985e-01 & 1.52299795e-08\\\\\n",
       "  1.00000000e+00 & 2.31952283e-16\\\\\n",
       "  1.00000000e+00 & 3.77513454e-11\\\\\n",
       "  1.00000000e+00 & 2.03109266e-42\\\\\n",
       "  1.00000000e+00 & 5.38018616e-32\\\\\n",
       "  1.00000000e+00 & 3.30570063e-37\\\\\n",
       "  2.31952283e-16 & 1.00000000e+00\\\\\n",
       "  2.31952283e-16 & 1.00000000e+00\\\\\n",
       "  3.30570063e-37 & 1.00000000e+00\\\\\n",
       "\\end{bmatrix}\\end{equation}"
      ],
      "text/plain": [
       "<IPython.core.display.Latex object>"
      ]
     },
     "metadata": {},
     "output_type": "display_data"
    },
    {
     "data": {
      "text/latex": [
       "$$m_{j}:$$"
      ],
      "text/plain": [
       "<IPython.core.display.Math object>"
      ]
     },
     "metadata": {},
     "output_type": "display_data"
    },
    {
     "data": {
      "text/latex": [
       "\\begin{equation}m_{0}=\\begin{bmatrix}\n",
       "  0.66666666\\\\\n",
       "\\end{bmatrix}\\end{equation}"
      ],
      "text/plain": [
       "<IPython.core.display.Latex object>"
      ]
     },
     "metadata": {},
     "output_type": "display_data"
    },
    {
     "data": {
      "text/latex": [
       "\\begin{equation}m_{1}=\\begin{bmatrix}\n",
       "  0.33333334\\\\\n",
       "\\end{bmatrix}\\end{equation}"
      ],
      "text/plain": [
       "<IPython.core.display.Latex object>"
      ]
     },
     "metadata": {},
     "output_type": "display_data"
    },
    {
     "data": {
      "text/latex": [
       "$$\\mu_{j}:$$"
      ],
      "text/plain": [
       "<IPython.core.display.Math object>"
      ]
     },
     "metadata": {},
     "output_type": "display_data"
    },
    {
     "data": {
      "text/latex": [
       "\\begin{equation}\\mu_{0}=\\begin{bmatrix}\n",
       "  4.50000001\\\\\n",
       "  4.66666667\\\\\n",
       "\\end{bmatrix}\\end{equation}"
      ],
      "text/plain": [
       "<IPython.core.display.Latex object>"
      ]
     },
     "metadata": {},
     "output_type": "display_data"
    },
    {
     "data": {
      "text/latex": [
       "\\begin{equation}\\mu_{1}=\\begin{bmatrix}\n",
       "  -3.99999997\\\\\n",
       "  -4.66666663\\\\\n",
       "\\end{bmatrix}\\end{equation}"
      ],
      "text/plain": [
       "<IPython.core.display.Latex object>"
      ]
     },
     "metadata": {},
     "output_type": "display_data"
    },
    {
     "data": {
      "text/latex": [
       "$$\\mathbf{Σ}_{j}:$$"
      ],
      "text/plain": [
       "<IPython.core.display.Math object>"
      ]
     },
     "metadata": {},
     "output_type": "display_data"
    },
    {
     "data": {
      "text/latex": [
       "\\begin{equation}\\mathbf{Σ}_{0}=\\begin{bmatrix}\n",
       "  6.91666665 & 0.\\\\\n",
       "  0. & 5.88888889\\\\\n",
       "\\end{bmatrix}\\end{equation}"
      ],
      "text/plain": [
       "<IPython.core.display.Latex object>"
      ]
     },
     "metadata": {},
     "output_type": "display_data"
    },
    {
     "data": {
      "text/latex": [
       "\\begin{equation}\\mathbf{Σ}_{1}=\\begin{bmatrix}\n",
       "  4.66666677 & 0.\\\\\n",
       "  0. & 2.8888891\\\\\n",
       "\\end{bmatrix}\\end{equation}"
      ],
      "text/plain": [
       "<IPython.core.display.Latex object>"
      ]
     },
     "metadata": {},
     "output_type": "display_data"
    },
    {
     "name": "stdout",
     "output_type": "stream",
     "text": [
      "\n",
      "EM Iteration: 2\n"
     ]
    },
    {
     "data": {
      "text/latex": [
       "\\begin{equation}w_{n,j}=\\begin{bmatrix}\n",
       "  9.99813056e-01 & 1.86943925e-04\\\\\n",
       "  9.99999598e-01 & 4.01712598e-07\\\\\n",
       "  9.99962713e-01 & 3.72872721e-05\\\\\n",
       "  1.00000000e+00 & 1.45458144e-18\\\\\n",
       "  1.00000000e+00 & 1.14758117e-13\\\\\n",
       "  1.00000000e+00 & 4.62050861e-16\\\\\n",
       "  1.55926974e-04 & 9.99844073e-01\\\\\n",
       "  9.87195678e-05 & 9.99901280e-01\\\\\n",
       "  3.37355359e-09 & 9.99999997e-01\\\\\n",
       "\\end{bmatrix}\\end{equation}"
      ],
      "text/plain": [
       "<IPython.core.display.Latex object>"
      ]
     },
     "metadata": {},
     "output_type": "display_data"
    },
    {
     "data": {
      "text/latex": [
       "$$m_{j}:$$"
      ],
      "text/plain": [
       "<IPython.core.display.Math object>"
      ]
     },
     "metadata": {},
     "output_type": "display_data"
    },
    {
     "data": {
      "text/latex": [
       "\\begin{equation}m_{0}=\\begin{bmatrix}\n",
       "  0.66667\\\\\n",
       "\\end{bmatrix}\\end{equation}"
      ],
      "text/plain": [
       "<IPython.core.display.Latex object>"
      ]
     },
     "metadata": {},
     "output_type": "display_data"
    },
    {
     "data": {
      "text/latex": [
       "\\begin{equation}m_{1}=\\begin{bmatrix}\n",
       "  0.33333\\\\\n",
       "\\end{bmatrix}\\end{equation}"
      ],
      "text/plain": [
       "<IPython.core.display.Latex object>"
      ]
     },
     "metadata": {},
     "output_type": "display_data"
    },
    {
     "data": {
      "text/latex": [
       "$$\\mu_{j}:$$"
      ],
      "text/plain": [
       "<IPython.core.display.Math object>"
      ]
     },
     "metadata": {},
     "output_type": "display_data"
    },
    {
     "data": {
      "text/latex": [
       "\\begin{equation}\\mu_{0}=\\begin{bmatrix}\n",
       "  4.49982283\\\\\n",
       "  4.6664246\\\\\n",
       "\\end{bmatrix}\\end{equation}"
      ],
      "text/plain": [
       "<IPython.core.display.Latex object>"
      ]
     },
     "metadata": {},
     "output_type": "display_data"
    },
    {
     "data": {
      "text/latex": [
       "\\begin{equation}\\mu_{1}=\\begin{bmatrix}\n",
       "  -3.9997307\\\\\n",
       "  -4.66627591\\\\\n",
       "\\end{bmatrix}\\end{equation}"
      ],
      "text/plain": [
       "<IPython.core.display.Latex object>"
      ]
     },
     "metadata": {},
     "output_type": "display_data"
    },
    {
     "data": {
      "text/latex": [
       "$$\\mathbf{Σ}_{j}:$$"
      ],
      "text/plain": [
       "<IPython.core.display.Math object>"
      ]
     },
     "metadata": {},
     "output_type": "display_data"
    },
    {
     "data": {
      "text/latex": [
       "\\begin{equation}\\mathbf{Σ}_{0}=\\begin{bmatrix}\n",
       "  6.9183684 & 0.\\\\\n",
       "  0. & 5.89135682\\\\\n",
       "\\end{bmatrix}\\end{equation}"
      ],
      "text/plain": [
       "<IPython.core.display.Latex object>"
      ]
     },
     "metadata": {},
     "output_type": "display_data"
    },
    {
     "data": {
      "text/latex": [
       "\\begin{equation}\\mathbf{Σ}_{1}=\\begin{bmatrix}\n",
       "  4.66854157 & 0.\\\\\n",
       "  0. & 2.89208848\\\\\n",
       "\\end{bmatrix}\\end{equation}"
      ],
      "text/plain": [
       "<IPython.core.display.Latex object>"
      ]
     },
     "metadata": {},
     "output_type": "display_data"
    },
    {
     "name": "stdout",
     "output_type": "stream",
     "text": [
      "\n",
      "EM Iteration: 3\n"
     ]
    },
    {
     "data": {
      "text/latex": [
       "\\begin{equation}w_{n,j}=\\begin{bmatrix}\n",
       "  9.99811303e-01 & 1.88696689e-04\\\\\n",
       "  9.99999593e-01 & 4.07288815e-07\\\\\n",
       "  9.99962338e-01 & 3.76618967e-05\\\\\n",
       "  1.00000000e+00 & 1.51116421e-18\\\\\n",
       "  1.00000000e+00 & 1.17937081e-13\\\\\n",
       "  1.00000000e+00 & 4.77343929e-16\\\\\n",
       "  1.56475250e-04 & 9.99843525e-01\\\\\n",
       "  9.91402944e-05 & 9.99900860e-01\\\\\n",
       "  3.39995558e-09 & 9.99999997e-01\\\\\n",
       "\\end{bmatrix}\\end{equation}"
      ],
      "text/plain": [
       "<IPython.core.display.Latex object>"
      ]
     },
     "metadata": {},
     "output_type": "display_data"
    },
    {
     "data": {
      "text/latex": [
       "$$m_{j}:$$"
      ],
      "text/plain": [
       "<IPython.core.display.Math object>"
      ]
     },
     "metadata": {},
     "output_type": "display_data"
    },
    {
     "data": {
      "text/latex": [
       "\\begin{equation}m_{0}=\\begin{bmatrix}\n",
       "  0.66666987\\\\\n",
       "\\end{bmatrix}\\end{equation}"
      ],
      "text/plain": [
       "<IPython.core.display.Latex object>"
      ]
     },
     "metadata": {},
     "output_type": "display_data"
    },
    {
     "data": {
      "text/latex": [
       "\\begin{equation}m_{1}=\\begin{bmatrix}\n",
       "  0.33333013\\\\\n",
       "\\end{bmatrix}\\end{equation}"
      ],
      "text/plain": [
       "<IPython.core.display.Latex object>"
      ]
     },
     "metadata": {},
     "output_type": "display_data"
    },
    {
     "data": {
      "text/latex": [
       "$$\\mu_{j}:$$"
      ],
      "text/plain": [
       "<IPython.core.display.Math object>"
      ]
     },
     "metadata": {},
     "output_type": "display_data"
    },
    {
     "data": {
      "text/latex": [
       "\\begin{equation}\\mu_{0}=\\begin{bmatrix}\n",
       "  4.49982287\\\\\n",
       "  4.66642423\\\\\n",
       "\\end{bmatrix}\\end{equation}"
      ],
      "text/plain": [
       "<IPython.core.display.Latex object>"
      ]
     },
     "metadata": {},
     "output_type": "display_data"
    },
    {
     "data": {
      "text/latex": [
       "\\begin{equation}\\mu_{1}=\\begin{bmatrix}\n",
       "  -3.99972748\\\\\n",
       "  -4.66627156\\\\\n",
       "\\end{bmatrix}\\end{equation}"
      ],
      "text/plain": [
       "<IPython.core.display.Latex object>"
      ]
     },
     "metadata": {},
     "output_type": "display_data"
    },
    {
     "data": {
      "text/latex": [
       "$$\\mathbf{Σ}_{j}:$$"
      ],
      "text/plain": [
       "<IPython.core.display.Math object>"
      ]
     },
     "metadata": {},
     "output_type": "display_data"
    },
    {
     "data": {
      "text/latex": [
       "\\begin{equation}\\mathbf{Σ}_{0}=\\begin{bmatrix}\n",
       "  6.91837387 & 0.\\\\\n",
       "  0. & 5.89136608\\\\\n",
       "\\end{bmatrix}\\end{equation}"
      ],
      "text/plain": [
       "<IPython.core.display.Latex object>"
      ]
     },
     "metadata": {},
     "output_type": "display_data"
    },
    {
     "data": {
      "text/latex": [
       "\\begin{equation}\\mathbf{Σ}_{1}=\\begin{bmatrix}\n",
       "  4.66855821 & 0.\\\\\n",
       "  0. & 2.89211841\\\\\n",
       "\\end{bmatrix}\\end{equation}"
      ],
      "text/plain": [
       "<IPython.core.display.Latex object>"
      ]
     },
     "metadata": {},
     "output_type": "display_data"
    },
    {
     "name": "stdout",
     "output_type": "stream",
     "text": [
      "\n"
     ]
    }
   ],
   "source": [
    "init_mu_2 = np.array([[3., 3.], [-3., -3.]])\n",
    "log_likelihoods_2, mu_2, sigma_2 = em(data = data_points, n_mixture = 2, initial_mu = init_mu_2, iterations = 3, verbose = True)"
   ]
  },
  {
   "cell_type": "markdown",
   "metadata": {},
   "source": [
    "**Plot the log likelihood of the model given the data after each EM step.**\n",
    "\n",
    "<font color=red>**Answer**</font><br>"
   ]
  },
  {
   "cell_type": "code",
   "execution_count": 340,
   "metadata": {},
   "outputs": [
    {
     "name": "stdout",
     "output_type": "stream",
     "text": [
      "[-76.738324609771766, -41.635791188144992, -41.639157959360503]\n"
     ]
    },
    {
     "data": {
      "image/png": "[encoded data removed]",
      "text/plain": [
       "<matplotlib.figure.Figure at 0x7fe8f15bb4a8>"
      ]
     },
     "metadata": {},
     "output_type": "display_data"
    }
   ],
   "source": [
    "print(log_likelihoods_2)\n",
    "plt.plot([i + 1 for i in range(len(log_likelihoods_2))], log_likelihoods_2, 'ro')\n",
    "plt.axis([0, 4, -100, 0])\n",
    "plt.xlabel('Iteration')\n",
    "plt.ylabel('Log Likelihood')\n",
    "plt.show()"
   ]
  },
  {
   "cell_type": "code",
   "execution_count": 336,
   "metadata": {},
   "outputs": [
    {
     "name": "stdout",
     "output_type": "stream",
     "text": [
      "[[ 4.49982287  4.66642423]\n",
      " [-3.99972748 -4.66627156]]\n"
     ]
    },
    {
     "data": {
      "image/png": "[encoded data removed]",
      "text/plain": [
       "<matplotlib.figure.Figure at 0x7fe8f19364a8>"
      ]
     },
     "metadata": {},
     "output_type": "display_data"
    }
   ],
   "source": [
    "print(mu_2)\n",
    "for i in range(len(mu_2)):\n",
    "    x, y = np.random.multivariate_normal(mu_2[i], sigma_2[i], 500).T\n",
    "    plt.plot(x, y, 'x')\n",
    "    plt.axis('equal')\n",
    "plt.plot(data_points.T[0], data_points.T[1], '^', color = 'purple')\n",
    "plt.show()"
   ]
  },
  {
   "cell_type": "markdown",
   "metadata": {},
   "source": [
    "**Compare the log likelihood between using two mixtures and three mixtures. Which one has the better likelihood?**<br>\n",
    "Compare $BIC = -2logL + tlogn$ of the two models<br>\n",
    "where <br>\n",
    "$t$ = number of parameters in the model<br>\n",
    "$n$ = number of data points"
   ]
  },
  {
   "cell_type": "code",
   "execution_count": 344,
   "metadata": {
    "collapsed": true
   },
   "outputs": [],
   "source": [
    "# Manually calculate Bayesian Information Criterion (BIC)\n",
    "# Number of parameters in the 3-mixture model = 8\n",
    "bic_1 = -2. * log_likelihoods_1[-1] + 8. * np.log(data_points.shape[0])\n",
    "\n",
    "# Number of parameters in the 3-mixture model = 5\n",
    "bic_2 = -2. * log_likelihoods_2[-1] + 5. * np.log(data_points.shape[0])"
   ]
  },
  {
   "cell_type": "code",
   "execution_count": 345,
   "metadata": {},
   "outputs": [
    {
     "data": {
      "text/plain": [
       "59.799339713742128"
      ]
     },
     "execution_count": 345,
     "metadata": {},
     "output_type": "execute_result"
    }
   ],
   "source": [
    "bic_1"
   ]
  },
  {
   "cell_type": "code",
   "execution_count": 346,
   "metadata": {},
   "outputs": [
    {
     "data": {
      "text/plain": [
       "94.264438805402108"
      ]
     },
     "execution_count": 346,
     "metadata": {},
     "output_type": "execute_result"
    }
   ],
   "source": [
    "bic_2"
   ]
  },
  {
   "cell_type": "markdown",
   "metadata": {},
   "source": [
    "<font color=red>**Answer**</font><br>\n",
    "After penalizing the log likelihood based on BIC, BIC of 3-mixture model is less than BIC of 2-mixture one, so log likelihood using three mixtures is better."
   ]
  }
 ],
 "metadata": {
  "kernelspec": {
   "display_name": "Python 3",
   "language": "python",
   "name": "python3"
  },
  "language_info": {
   "codemirror_mode": {
    "name": "ipython",
    "version": 3
   },
   "file_extension": ".py",
   "mimetype": "text/x-python",
   "name": "python",
   "nbconvert_exporter": "python",
   "pygments_lexer": "ipython3",
   "version": "3.6.2"
  }
 },
 "nbformat": 4,
 "nbformat_minor": 2
}
