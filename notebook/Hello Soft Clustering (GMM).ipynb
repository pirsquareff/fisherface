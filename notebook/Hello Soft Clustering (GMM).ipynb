{
 "cells": [
  {
   "cell_type": "markdown",
   "metadata": {},
   "source": [
    "# Hello Soft Clustering (GMM)\n",
    "**GitHub:** https://github.com/pirsquareff/fisherface\n",
    "\n",
    "Recall from HW1 we did K-means clustering. Fitting a GMM on a set of points can be considered as another method to do clustering but now with soft assignments.\n",
    "\n",
    "Consider the same set of points we used in HW1\n",
    "\n",
    "<img src=\"images/clustering-observation-in-xy-plane.png\" width=\"35%\" height=\"35%\">\n",
    "\n",
    "In class, we showed that we could fit a GMM on 1-dimensional data by using Expectation Maximization (EM). The algorithm for doing EM on N-dimensional GMM is very similar. The exact algorithm is as follows:\n",
    "\n",
    "**Initialization:** Initialize the mixture weights, $\\phi=\\{m_{j}\\}$, where $j$ is the mixture number, means of each Gaussian, $\\mu_{j}$ (now a vector of $N$ dimensions), and covariance matrices of each Gaussian, $Σ_{j}$.<br>\n",
    "**Expectation:** Find the soft assignments for each data point $w_{n, j}$ where $n$ corresponds to the sample index.\n",
    "$$w_{n, j} = \\frac{p(x_{n}; \\vec{\\mu_{j}}, \\mathbf{Σ}_{j})m_{j}}{\\sum_{j}p(x_{n}; \\vec{\\mu_{j}}, \\mathbf{Σ}_{j})m_{j}}$$\n",
    "$w_{n, j}$ means the probability that data point $n$ comes from Gaussian number $j$.<br>\n",
    "<div class=\"alert alert-block alert-info\">\n",
    "**Multivariate Normal Distribution (MVN Distribution)**<br>\n",
    "$$f(\\mathbf{x}) = \\frac{1}{(2\\pi)^{d/2}|\\mathbf{Σ}|^{1/2}}exp\\{-\\frac{1}{2}(\\mathbf{x}-\\mathbf{\\mu})^T\\mathbf{Σ}^{-1}(\\mathbf{x}-\\mathbf{\\mu})\\}$$\n",
    "where $d$ is the dimension of data\n",
    "</div>\n",
    "**Maximization:** Update the model parameters, $\\phi$, $\\mu_{j}$, $Σ_{j}$.\n",
    "$$m_{j} = \\frac{1}{N}\\sum_{n}w_{n, j}$$\n",
    "$$\\vec{\\mu_{j}} = \\frac{\\sum_{n}w_{n,j}\\vec{x_{n}}}{\\sum_{n}w_{n,j}}$$\n",
    "$$\\mathbf{Σ}_{j} = \\frac{\\sum_{n}w_{n,j}(\\vec{x_{n}}-\\vec{\\mu_{j}})(\\vec{x_{n}}-\\vec{\\mu_{j}})^T}{\\sum_{n}w_{n,j}}$$\n",
    "\n",
    "<div class=\"alert alert-block alert-info\">\n",
    "The above equation is used for full covariance matrices. For our small toy example, we will use diagonal covariance matrices, which can be acquired by setting the off-diagonal values to zero. In other words, $\\mathbf{Σ}_{(i, j)} = 0$, for $i \\neq j$.\n",
    "</div>\n",
    "\n",
    "**Repeat:** Expectation and maximization step."
   ]
  },
  {
   "cell_type": "code",
   "execution_count": 471,
   "metadata": {
    "collapsed": true
   },
   "outputs": [],
   "source": [
    "import numpy as np\n",
    "from IPython.display import Latex\n",
    "from IPython.display import Math\n",
    "from IPython.display import display\n",
    "import matplotlib.pyplot as plt\n",
    "from scipy.stats import multivariate_normal"
   ]
  },
  {
   "cell_type": "code",
   "execution_count": 472,
   "metadata": {
    "collapsed": true
   },
   "outputs": [],
   "source": [
    "data_points = np.array([[1., 2.], [3., 3.], [2., 2.], [8., 8.], [6., 6.], [7., 7.], [-3., -3.], [-2., -4.], [-7., -7.]]) "
   ]
  },
  {
   "cell_type": "code",
   "execution_count": 473,
   "metadata": {
    "collapsed": true
   },
   "outputs": [],
   "source": [
    "def latex_bmatrix(a):\n",
    "    \"\"\"Returns a LaTeX bmatrix\n",
    "    :a: numpy array\n",
    "    :returns: LaTeX bmatrix as a string\n",
    "    \"\"\"\n",
    "    if len(a.shape) > 2:\n",
    "        raise ValueError('bmatrix can at most display two dimensions')\n",
    "    lines = str(a).replace('[', '').replace(']', '').splitlines()\n",
    "    rv = [r'\\begin{bmatrix}']\n",
    "    rv += ['  ' + ' & '.join(l.split()) + r'\\\\' for l in lines]\n",
    "    rv +=  [r'\\end{bmatrix}']\n",
    "    return '\\n'.join(rv)"
   ]
  },
  {
   "cell_type": "code",
   "execution_count": 474,
   "metadata": {
    "collapsed": true
   },
   "outputs": [],
   "source": [
    "def em(data, n_mixture, initial_mu = None, iterations = 1000, verbose = False):\n",
    "    \"\"\"Do expectation maximization (EM) on N-dimensional GMM\n",
    "    :data: data in N-dimension\n",
    "    :n_mixture: a number of mixture\n",
    "    :initial_mu: initialized Gaussian means\n",
    "    :iterations: a maximum round to do repeat step\n",
    "    :verbose: set True to show significant values at each iteration\n",
    "    \"\"\"\n",
    "    # n_data: number of data points\n",
    "    # dimension: dimension of data points\n",
    "    n_data, dimension = data.shape\n",
    "\n",
    "    ## INITIALIZATION STEP ##\n",
    "    # initialize mixture weight of each Gaussian equally (ϕ: phi)\n",
    "    phi = [1./n_mixture] * n_mixture\n",
    "    \n",
    "    if initial_mu is not None:\n",
    "        mu = np.array(initial_mu)\n",
    "    else:\n",
    "        # randomly initialize means of each Gaussian (μ: mu)\n",
    "        mu = data[np.random.choice(n_data, size = n_mixture, replace = False), :]\n",
    "    \n",
    "    # initialize covariance matrices of each Gaussian (Σ: sigma)\n",
    "    \"\"\"\n",
    "    numpy.eye(N)\n",
    "    :N: Number of rows in the output.\n",
    "    :return: A 2-D array w/ ones on the diagonal and zeros elsewhere.\n",
    "    \"\"\"\n",
    "    sigma = [np.eye(dimension)] * n_mixture\n",
    "\n",
    "    # initialize log_likelihoods\n",
    "    log_likelihoods = []\n",
    "    \n",
    "    if(verbose):\n",
    "        print(\"Initialization:\")\n",
    "        display(Math(r\"m_{j}:\"))\n",
    "        for j in range(n_mixture):\n",
    "            display(Latex(r\"\\begin{equation}m_{\" + str(j) + \"}=\" + latex_bmatrix(np.matrix(phi[j])) + \"\\end{equation}\"))\n",
    "        display(Math(r\"\\mu_{j}:\"))\n",
    "        for j in range(n_mixture):\n",
    "            display(Latex(r\"\\begin{equation}\\mu_{\" + str(j) + \"}=\" + latex_bmatrix(np.matrix(mu[j]).T) + \"\\end{equation}\"))\n",
    "        display(Math(r\"\\mathbf{Σ}_{j}:\"))\n",
    "        for j in range(n_mixture):\n",
    "            display(Latex(r\"\\begin{equation}\\mathbf{Σ}_{\" + str(j) + \"}=\" + latex_bmatrix(sigma[j]) + \"\\end{equation}\"))\n",
    "        print()\n",
    "    \n",
    "    for i in range(iterations) :\n",
    "        ## EXPECTATION STEP ##\n",
    "        # set soft labels (w)\n",
    "        w_numerator = np.zeros((n_data, n_mixture))\n",
    "        for j in range(n_mixture):\n",
    "            w_numerator[:, j] = phi[j] * multivariate_normal.pdf(data, mu[j], sigma[j])\n",
    "        w = (w_numerator.T / np.sum(w_numerator, axis = 1)).T\n",
    "        w_j = np.sum(w, axis = 0)\n",
    "        \n",
    "        ## MAXIMIZATION STEP ##\n",
    "        for j in range(n_mixture):\n",
    "            # update mixture weight\n",
    "            phi[j] = 1. / n_data * w_j[j]\n",
    "            \n",
    "            # update sigma\n",
    "            x_mu = np.matrix(data - mu[j])\n",
    "            sigma[j] = np.array(np.dot(np.multiply(x_mu.T, w[:, j]), x_mu) / w_j[j])\n",
    "            \n",
    "            # set the off-diagonal values to zero\n",
    "            sigma[j] = np.diag(np.diag(sigma[j]))\n",
    "            \n",
    "            # update mean\n",
    "            mu[j] = np.sum(w[:, j] * data.T, axis = 1).T / w_j[j]\n",
    "        \n",
    "        # calulate log likelihood\n",
    "        log_likelihood = np.sum(np.log(np.sum(w_numerator, axis = 1)))\n",
    "        log_likelihoods.append(log_likelihood)\n",
    "        \n",
    "        if(verbose):\n",
    "            print(\"EM Iteration: \" + str(i + 1))\n",
    "            display(Latex(r\"\\begin{equation}w_{n,j}=\" + latex_bmatrix(w) + \"\\end{equation}\"))\n",
    "            display(Math(r\"m_{j}:\"))\n",
    "            for j in range(n_mixture):\n",
    "                display(Latex(r\"\\begin{equation}m_{\" + str(j) + \"}=\" + latex_bmatrix(np.matrix(phi[j])) + \"\\end{equation}\"))\n",
    "            display(Math(r\"\\mu_{j}:\"))\n",
    "            for j in range(n_mixture):\n",
    "                display(Latex(r\"\\begin{equation}\\mu_{\" + str(j) + \"}=\" + latex_bmatrix(np.matrix(mu[j]).T) + \"\\end{equation}\"))\n",
    "            display(Math(r\"\\mathbf{Σ}_{j}:\"))\n",
    "            for j in range(n_mixture):\n",
    "                display(Latex(r\"\\begin{equation}\\mathbf{Σ}_{\" + str(j) + \"}=\" + latex_bmatrix(sigma[j]) + \"\\end{equation}\"))\n",
    "            print()\n",
    "    return log_likelihoods, mu, sigma"
   ]
  },
  {
   "cell_type": "markdown",
   "metadata": {},
   "source": [
    "**Using 3 mixtures, initialize your Gaussian with means $(3,3)$, $(2,2)$, and $(-3,-3)$, and standard Covariance, $\\textbf{I}$, the identity matrix. Use equal mixture weights as the initial weights. Repeat three iterations of EM. Write down $w_{n,j}, m_{j}, \\mu_{j}, \\mathbf{Σ}_{j}$ for each EM iteration. (You may do the calculations by hand or write code to do so)**\n",
    "\n",
    "<font color=red>**Answer**</font><br>\n",
    "The answer is in the output of the code cell below."
   ]
  },
  {
   "cell_type": "code",
   "execution_count": 475,
   "metadata": {},
   "outputs": [
    {
     "name": "stdout",
     "output_type": "stream",
     "text": [
      "Initialization:\n"
     ]
    },
    {
     "data": {
      "text/latex": [
       "$$m_{j}:$$"
      ],
      "text/plain": [
       "<IPython.core.display.Math object>"
      ]
     },
     "metadata": {},
     "output_type": "display_data"
    },
    {
     "data": {
      "text/latex": [
       "\\begin{equation}m_{0}=\\begin{bmatrix}\n",
       "  0.33333333\\\\\n",
       "\\end{bmatrix}\\end{equation}"
      ],
      "text/plain": [
       "<IPython.core.display.Latex object>"
      ]
     },
     "metadata": {},
     "output_type": "display_data"
    },
    {
     "data": {
      "text/latex": [
       "\\begin{equation}m_{1}=\\begin{bmatrix}\n",
       "  0.33333333\\\\\n",
       "\\end{bmatrix}\\end{equation}"
      ],
      "text/plain": [
       "<IPython.core.display.Latex object>"
      ]
     },
     "metadata": {},
     "output_type": "display_data"
    },
    {
     "data": {
      "text/latex": [
       "\\begin{equation}m_{2}=\\begin{bmatrix}\n",
       "  0.33333333\\\\\n",
       "\\end{bmatrix}\\end{equation}"
      ],
      "text/plain": [
       "<IPython.core.display.Latex object>"
      ]
     },
     "metadata": {},
     "output_type": "display_data"
    },
    {
     "data": {
      "text/latex": [
       "$$\\mu_{j}:$$"
      ],
      "text/plain": [
       "<IPython.core.display.Math object>"
      ]
     },
     "metadata": {},
     "output_type": "display_data"
    },
    {
     "data": {
      "text/latex": [
       "\\begin{equation}\\mu_{0}=\\begin{bmatrix}\n",
       "  3.\\\\\n",
       "  3.\\\\\n",
       "\\end{bmatrix}\\end{equation}"
      ],
      "text/plain": [
       "<IPython.core.display.Latex object>"
      ]
     },
     "metadata": {},
     "output_type": "display_data"
    },
    {
     "data": {
      "text/latex": [
       "\\begin{equation}\\mu_{1}=\\begin{bmatrix}\n",
       "  2.\\\\\n",
       "  2.\\\\\n",
       "\\end{bmatrix}\\end{equation}"
      ],
      "text/plain": [
       "<IPython.core.display.Latex object>"
      ]
     },
     "metadata": {},
     "output_type": "display_data"
    },
    {
     "data": {
      "text/latex": [
       "\\begin{equation}\\mu_{2}=\\begin{bmatrix}\n",
       "  -3.\\\\\n",
       "  -3.\\\\\n",
       "\\end{bmatrix}\\end{equation}"
      ],
      "text/plain": [
       "<IPython.core.display.Latex object>"
      ]
     },
     "metadata": {},
     "output_type": "display_data"
    },
    {
     "data": {
      "text/latex": [
       "$$\\mathbf{Σ}_{j}:$$"
      ],
      "text/plain": [
       "<IPython.core.display.Math object>"
      ]
     },
     "metadata": {},
     "output_type": "display_data"
    },
    {
     "data": {
      "text/latex": [
       "\\begin{equation}\\mathbf{Σ}_{0}=\\begin{bmatrix}\n",
       "  1. & 0.\\\\\n",
       "  0. & 1.\\\\\n",
       "\\end{bmatrix}\\end{equation}"
      ],
      "text/plain": [
       "<IPython.core.display.Latex object>"
      ]
     },
     "metadata": {},
     "output_type": "display_data"
    },
    {
     "data": {
      "text/latex": [
       "\\begin{equation}\\mathbf{Σ}_{1}=\\begin{bmatrix}\n",
       "  1. & 0.\\\\\n",
       "  0. & 1.\\\\\n",
       "\\end{bmatrix}\\end{equation}"
      ],
      "text/plain": [
       "<IPython.core.display.Latex object>"
      ]
     },
     "metadata": {},
     "output_type": "display_data"
    },
    {
     "data": {
      "text/latex": [
       "\\begin{equation}\\mathbf{Σ}_{2}=\\begin{bmatrix}\n",
       "  1. & 0.\\\\\n",
       "  0. & 1.\\\\\n",
       "\\end{bmatrix}\\end{equation}"
      ],
      "text/plain": [
       "<IPython.core.display.Latex object>"
      ]
     },
     "metadata": {},
     "output_type": "display_data"
    },
    {
     "name": "stdout",
     "output_type": "stream",
     "text": [
      "\n",
      "EM Iteration: 1\n"
     ]
    },
    {
     "data": {
      "text/latex": [
       "\\begin{equation}w_{n,j}=\\begin{bmatrix}\n",
       "  1.19202922e-01 & 8.80797076e-01 & 1.81545808e-09\\\\\n",
       "  7.31058579e-01 & 2.68941421e-01 & 1.69570706e-16\\\\\n",
       "  2.68941421e-01 & 7.31058579e-01 & 1.01529005e-11\\\\\n",
       "  9.99983299e-01 & 1.67014218e-05 & 2.03105874e-42\\\\\n",
       "  9.99088949e-01 & 9.11051194e-04 & 5.37528453e-32\\\\\n",
       "  9.99876605e-01 & 1.23394576e-04 & 3.30529272e-37\\\\\n",
       "  2.31952283e-16 & 1.38879439e-11 & 1.00000000e+00\\\\\n",
       "  2.31952283e-16 & 1.38879439e-11 & 1.00000000e+00\\\\\n",
       "  3.30570063e-37 & 5.90009054e-29 & 1.00000000e+00\\\\\n",
       "\\end{bmatrix}\\end{equation}"
      ],
      "text/plain": [
       "<IPython.core.display.Latex object>"
      ]
     },
     "metadata": {},
     "output_type": "display_data"
    },
    {
     "data": {
      "text/latex": [
       "$$m_{j}:$$"
      ],
      "text/plain": [
       "<IPython.core.display.Math object>"
      ]
     },
     "metadata": {},
     "output_type": "display_data"
    },
    {
     "data": {
      "text/latex": [
       "\\begin{equation}m_{0}=\\begin{bmatrix}\n",
       "  0.45757242\\\\\n",
       "\\end{bmatrix}\\end{equation}"
      ],
      "text/plain": [
       "<IPython.core.display.Latex object>"
      ]
     },
     "metadata": {},
     "output_type": "display_data"
    },
    {
     "data": {
      "text/latex": [
       "\\begin{equation}m_{1}=\\begin{bmatrix}\n",
       "  0.20909425\\\\\n",
       "\\end{bmatrix}\\end{equation}"
      ],
      "text/plain": [
       "<IPython.core.display.Latex object>"
      ]
     },
     "metadata": {},
     "output_type": "display_data"
    },
    {
     "data": {
      "text/latex": [
       "\\begin{equation}m_{2}=\\begin{bmatrix}\n",
       "  0.33333333\\\\\n",
       "\\end{bmatrix}\\end{equation}"
      ],
      "text/plain": [
       "<IPython.core.display.Latex object>"
      ]
     },
     "metadata": {},
     "output_type": "display_data"
    },
    {
     "data": {
      "text/latex": [
       "$$\\mu_{j}:$$"
      ],
      "text/plain": [
       "<IPython.core.display.Math object>"
      ]
     },
     "metadata": {},
     "output_type": "display_data"
    },
    {
     "data": {
      "text/latex": [
       "\\begin{equation}\\mu_{0}=\\begin{bmatrix}\n",
       "  5.78992692\\\\\n",
       "  5.81887265\\\\\n",
       "\\end{bmatrix}\\end{equation}"
      ],
      "text/plain": [
       "<IPython.core.display.Latex object>"
      ]
     },
     "metadata": {},
     "output_type": "display_data"
    },
    {
     "data": {
      "text/latex": [
       "\\begin{equation}\\mu_{1}=\\begin{bmatrix}\n",
       "  1.67718211\\\\\n",
       "  2.14523106\\\\\n",
       "\\end{bmatrix}\\end{equation}"
      ],
      "text/plain": [
       "<IPython.core.display.Latex object>"
      ]
     },
     "metadata": {},
     "output_type": "display_data"
    },
    {
     "data": {
      "text/latex": [
       "\\begin{equation}\\mu_{2}=\\begin{bmatrix}\n",
       "  -4.\\\\\n",
       "  -4.66666666\\\\\n",
       "\\end{bmatrix}\\end{equation}"
      ],
      "text/plain": [
       "<IPython.core.display.Latex object>"
      ]
     },
     "metadata": {},
     "output_type": "display_data"
    },
    {
     "data": {
      "text/latex": [
       "$$\\mathbf{Σ}_{j}:$$"
      ],
      "text/plain": [
       "<IPython.core.display.Math object>"
      ]
     },
     "metadata": {},
     "output_type": "display_data"
    },
    {
     "data": {
      "text/latex": [
       "\\begin{equation}\\mathbf{Σ}_{0}=\\begin{bmatrix}\n",
       "  12.31988634 & 0.\\\\\n",
       "  0. & 12.23304914\\\\\n",
       "\\end{bmatrix}\\end{equation}"
      ],
      "text/plain": [
       "<IPython.core.display.Latex object>"
      ]
     },
     "metadata": {},
     "output_type": "display_data"
    },
    {
     "data": {
      "text/latex": [
       "\\begin{equation}\\mathbf{Σ}_{1}=\\begin{bmatrix}\n",
       "  0.62066718 & 0.\\\\\n",
       "  0. & 0.15261824\\\\\n",
       "\\end{bmatrix}\\end{equation}"
      ],
      "text/plain": [
       "<IPython.core.display.Latex object>"
      ]
     },
     "metadata": {},
     "output_type": "display_data"
    },
    {
     "data": {
      "text/latex": [
       "\\begin{equation}\\mathbf{Σ}_{2}=\\begin{bmatrix}\n",
       "  5.66666667 & 0.\\\\\n",
       "  0. & 5.66666668\\\\\n",
       "\\end{bmatrix}\\end{equation}"
      ],
      "text/plain": [
       "<IPython.core.display.Latex object>"
      ]
     },
     "metadata": {},
     "output_type": "display_data"
    },
    {
     "name": "stdout",
     "output_type": "stream",
     "text": [
      "\n",
      "EM Iteration: 2\n"
     ]
    },
    {
     "data": {
      "text/latex": [
       "\\begin{equation}w_{n,j}=\\begin{bmatrix}\n",
       "  1.81294622e-002 & 9.81582998e-001 & 2.87540002e-004\\\\\n",
       "  5.64494061e-001 & 4.35380622e-001 & 1.25316584e-004\\\\\n",
       "  1.92846943e-002 & 9.80633501e-001 & 8.18047710e-005\\\\\n",
       "  1.00000000e+000 & 4.70826685e-062 & 5.03915978e-012\\\\\n",
       "  9.99999990e-001 & 3.82283898e-027 & 1.01750382e-008\\\\\n",
       "  1.00000000e+000 & 7.32691444e-043 & 2.49006494e-010\\\\\n",
       "  1.59795152e-003 & 7.69753019e-045 & 9.98402048e-001\\\\\n",
       "  1.55069753e-003 & 5.89612118e-058 & 9.98449302e-001\\\\\n",
       "  3.59091243e-006 & 1.89005654e-144 & 9.99996409e-001\\\\\n",
       "\\end{bmatrix}\\end{equation}"
      ],
      "text/plain": [
       "<IPython.core.display.Latex object>"
      ]
     },
     "metadata": {},
     "output_type": "display_data"
    },
    {
     "data": {
      "text/latex": [
       "$$m_{j}:$$"
      ],
      "text/plain": [
       "<IPython.core.display.Math object>"
      ]
     },
     "metadata": {},
     "output_type": "display_data"
    },
    {
     "data": {
      "text/latex": [
       "\\begin{equation}m_{0}=\\begin{bmatrix}\n",
       "  0.40056227\\\\\n",
       "\\end{bmatrix}\\end{equation}"
      ],
      "text/plain": [
       "<IPython.core.display.Latex object>"
      ]
     },
     "metadata": {},
     "output_type": "display_data"
    },
    {
     "data": {
      "text/latex": [
       "\\begin{equation}m_{1}=\\begin{bmatrix}\n",
       "  0.26639968\\\\\n",
       "\\end{bmatrix}\\end{equation}"
      ],
      "text/plain": [
       "<IPython.core.display.Latex object>"
      ]
     },
     "metadata": {},
     "output_type": "display_data"
    },
    {
     "data": {
      "text/latex": [
       "\\begin{equation}m_{2}=\\begin{bmatrix}\n",
       "  0.33303805\\\\\n",
       "\\end{bmatrix}\\end{equation}"
      ],
      "text/plain": [
       "<IPython.core.display.Latex object>"
      ]
     },
     "metadata": {},
     "output_type": "display_data"
    },
    {
     "data": {
      "text/latex": [
       "$$\\mu_{j}:$$"
      ],
      "text/plain": [
       "<IPython.core.display.Math object>"
      ]
     },
     "metadata": {},
     "output_type": "display_data"
    },
    {
     "data": {
      "text/latex": [
       "\\begin{equation}\\mu_{0}=\\begin{bmatrix}\n",
       "  6.30842698\\\\\n",
       "  6.31259558\\\\\n",
       "\\end{bmatrix}\\end{equation}"
      ],
      "text/plain": [
       "<IPython.core.display.Latex object>"
      ]
     },
     "metadata": {},
     "output_type": "display_data"
    },
    {
     "data": {
      "text/latex": [
       "\\begin{equation}\\mu_{1}=\\begin{bmatrix}\n",
       "  1.77218759\\\\\n",
       "  2.1815904\\\\\n",
       "\\end{bmatrix}\\end{equation}"
      ],
      "text/plain": [
       "<IPython.core.display.Latex object>"
      ]
     },
     "metadata": {},
     "output_type": "display_data"
    },
    {
     "data": {
      "text/latex": [
       "\\begin{equation}\\mu_{2}=\\begin{bmatrix}\n",
       "  -4.00062813\\\\\n",
       "  -4.66675525\\\\\n",
       "\\end{bmatrix}\\end{equation}"
      ],
      "text/plain": [
       "<IPython.core.display.Latex object>"
      ]
     },
     "metadata": {},
     "output_type": "display_data"
    },
    {
     "data": {
      "text/latex": [
       "$$\\mathbf{Σ}_{j}:$$"
      ],
      "text/plain": [
       "<IPython.core.display.Math object>"
      ]
     },
     "metadata": {},
     "output_type": "display_data"
    },
    {
     "data": {
      "text/latex": [
       "\\begin{equation}\\mathbf{Σ}_{0}=\\begin{bmatrix}\n",
       "  3.24482139 & 0.\\\\\n",
       "  0. & 3.18737779\\\\\n",
       "\\end{bmatrix}\\end{equation}"
      ],
      "text/plain": [
       "<IPython.core.display.Latex object>"
      ]
     },
     "metadata": {},
     "output_type": "display_data"
    },
    {
     "data": {
      "text/latex": [
       "\\begin{equation}\\mathbf{Σ}_{1}=\\begin{bmatrix}\n",
       "  0.54812076 & 0.\\\\\n",
       "  0. & 0.14993733\\\\\n",
       "\\end{bmatrix}\\end{equation}"
      ],
      "text/plain": [
       "<IPython.core.display.Latex object>"
      ]
     },
     "metadata": {},
     "output_type": "display_data"
    },
    {
     "data": {
      "text/latex": [
       "\\begin{equation}\\mathbf{Σ}_{2}=\\begin{bmatrix}\n",
       "  4.67362081 & 0.\\\\\n",
       "  0. & 2.89766742\\\\\n",
       "\\end{bmatrix}\\end{equation}"
      ],
      "text/plain": [
       "<IPython.core.display.Latex object>"
      ]
     },
     "metadata": {},
     "output_type": "display_data"
    },
    {
     "name": "stdout",
     "output_type": "stream",
     "text": [
      "\n",
      "EM Iteration: 3\n"
     ]
    },
    {
     "data": {
      "text/latex": [
       "\\begin{equation}w_{n,j}=\\begin{bmatrix}\n",
       "  1.81240251e-004 & 9.99812736e-001 & 6.02360765e-006\\\\\n",
       "  1.40770128e-001 & 8.59229229e-001 & 6.42663215e-007\\\\\n",
       "  4.85324724e-004 & 9.99513546e-001 & 1.12958651e-006\\\\\n",
       "  1.00000000e+000 & 7.30562640e-064 & 3.40271752e-019\\\\\n",
       "  1.00000000e+000 & 4.88274872e-028 & 5.02342563e-014\\\\\n",
       "  1.00000000e+000 & 3.05867029e-044 & 1.26696752e-016\\\\\n",
       "  4.85980138e-012 & 2.29092578e-047 & 1.00000000e+000\\\\\n",
       "  3.11260608e-012 & 1.78986020e-060 & 1.00000000e+000\\\\\n",
       "  1.09172834e-023 & 1.82739807e-151 & 1.00000000e+000\\\\\n",
       "\\end{bmatrix}\\end{equation}"
      ],
      "text/plain": [
       "<IPython.core.display.Latex object>"
      ]
     },
     "metadata": {},
     "output_type": "display_data"
    },
    {
     "data": {
      "text/latex": [
       "$$m_{j}:$$"
      ],
      "text/plain": [
       "<IPython.core.display.Math object>"
      ]
     },
     "metadata": {},
     "output_type": "display_data"
    },
    {
     "data": {
      "text/latex": [
       "\\begin{equation}m_{0}=\\begin{bmatrix}\n",
       "  0.34904852\\\\\n",
       "\\end{bmatrix}\\end{equation}"
      ],
      "text/plain": [
       "<IPython.core.display.Latex object>"
      ]
     },
     "metadata": {},
     "output_type": "display_data"
    },
    {
     "data": {
      "text/latex": [
       "\\begin{equation}m_{1}=\\begin{bmatrix}\n",
       "  0.31761728\\\\\n",
       "\\end{bmatrix}\\end{equation}"
      ],
      "text/plain": [
       "<IPython.core.display.Latex object>"
      ]
     },
     "metadata": {},
     "output_type": "display_data"
    },
    {
     "data": {
      "text/latex": [
       "\\begin{equation}m_{2}=\\begin{bmatrix}\n",
       "  0.3333342\\\\\n",
       "\\end{bmatrix}\\end{equation}"
      ],
      "text/plain": [
       "<IPython.core.display.Latex object>"
      ]
     },
     "metadata": {},
     "output_type": "display_data"
    },
    {
     "data": {
      "text/latex": [
       "$$\\mu_{j}:$$"
      ],
      "text/plain": [
       "<IPython.core.display.Math object>"
      ]
     },
     "metadata": {},
     "output_type": "display_data"
    },
    {
     "data": {
      "text/latex": [
       "\\begin{equation}\\mu_{0}=\\begin{bmatrix}\n",
       "  6.81963839\\\\\n",
       "  6.81969608\\\\\n",
       "\\end{bmatrix}\\end{equation}"
      ],
      "text/plain": [
       "<IPython.core.display.Latex object>"
      ]
     },
     "metadata": {},
     "output_type": "display_data"
    },
    {
     "data": {
      "text/latex": [
       "\\begin{equation}\\mu_{1}=\\begin{bmatrix}\n",
       "  1.95082009\\\\\n",
       "  2.30058161\\\\\n",
       "\\end{bmatrix}\\end{equation}"
      ],
      "text/plain": [
       "<IPython.core.display.Latex object>"
      ]
     },
     "metadata": {},
     "output_type": "display_data"
    },
    {
     "data": {
      "text/latex": [
       "\\begin{equation}\\mu_{2}=\\begin{bmatrix}\n",
       "  -3.9999862\\\\\n",
       "  -4.66664913\\\\\n",
       "\\end{bmatrix}\\end{equation}"
      ],
      "text/plain": [
       "<IPython.core.display.Latex object>"
      ]
     },
     "metadata": {},
     "output_type": "display_data"
    },
    {
     "data": {
      "text/latex": [
       "$$\\mathbf{Σ}_{j}:$$"
      ],
      "text/plain": [
       "<IPython.core.display.Math object>"
      ]
     },
     "metadata": {},
     "output_type": "display_data"
    },
    {
     "data": {
      "text/latex": [
       "\\begin{equation}\\mathbf{Σ}_{0}=\\begin{bmatrix}\n",
       "  1.58836939 & 0.\\\\\n",
       "  0. & 1.58356938\\\\\n",
       "\\end{bmatrix}\\end{equation}"
      ],
      "text/plain": [
       "<IPython.core.display.Latex object>"
      ]
     },
     "metadata": {},
     "output_type": "display_data"
    },
    {
     "data": {
      "text/latex": [
       "\\begin{equation}\\mathbf{Σ}_{1}=\\begin{bmatrix}\n",
       "  0.67983404 & 0.\\\\\n",
       "  0. & 0.22439122\\\\\n",
       "\\end{bmatrix}\\end{equation}"
      ],
      "text/plain": [
       "<IPython.core.display.Latex object>"
      ]
     },
     "metadata": {},
     "output_type": "display_data"
    },
    {
     "data": {
      "text/latex": [
       "\\begin{equation}\\mathbf{Σ}_{2}=\\begin{bmatrix}\n",
       "  4.6667292 & 0.\\\\\n",
       "  0. & 2.88899996\\\\\n",
       "\\end{bmatrix}\\end{equation}"
      ],
      "text/plain": [
       "<IPython.core.display.Latex object>"
      ]
     },
     "metadata": {},
     "output_type": "display_data"
    },
    {
     "name": "stdout",
     "output_type": "stream",
     "text": [
      "\n"
     ]
    }
   ],
   "source": [
    "init_mu_1 = np.array([[3., 3.], [2., 2.], [-3., -3.]])\n",
    "log_likelihoods_1, mu_1, sigma_1 = em(data = data_points, n_mixture = 3, initial_mu = init_mu_1, iterations = 3, verbose = True)"
   ]
  },
  {
   "cell_type": "markdown",
   "metadata": {},
   "source": [
    "**Plot the log likelihood of the model given the data after each EM step. In other words, plot $\\log\\prod_np(\\vec{x_{n}}|\\phi, \\vec{\\mu},\\mathbf{Σ})$. Does it goes up every iteration just as we learned in class?**<br>\n",
    "<font color=red>**Answer**</font><br>\n",
    "Yes, the log likelihood goes up every iteration as shown in the figure below."
   ]
  },
  {
   "cell_type": "code",
   "execution_count": 476,
   "metadata": {},
   "outputs": [
    {
     "name": "stdout",
     "output_type": "stream",
     "text": [
      "[-93.173901237559477, -42.103074420132309, -38.54343920672342]\n"
     ]
    },
    {
     "data": {
      "image/png": "[encoded data removed]",
      "text/plain": [
       "<matplotlib.figure.Figure at 0x7fe8f1561e10>"
      ]
     },
     "metadata": {},
     "output_type": "display_data"
    }
   ],
   "source": [
    "print(log_likelihoods_1)\n",
    "plt.plot([i + 1 for i in range(len(log_likelihoods_1))], log_likelihoods_1, 'ro')\n",
    "plt.axis([0, 4, -100, -30])\n",
    "plt.xlabel('Iteration')\n",
    "plt.ylabel('Log Likelihood')\n",
    "plt.show()"
   ]
  },
  {
   "cell_type": "code",
   "execution_count": 477,
   "metadata": {},
   "outputs": [
    {
     "data": {
      "image/png": "[encoded data removed]",
      "text/plain": [
       "<matplotlib.figure.Figure at 0x7fe8e9530a20>"
      ]
     },
     "metadata": {},
     "output_type": "display_data"
    }
   ],
   "source": [
    "for i in range(len(mu_1)):\n",
    "    x, y = np.random.multivariate_normal(mu_1[i], sigma_1[i], 500).T\n",
    "    plt.plot(x, y, 'x')\n",
    "    plt.axis('equal')\n",
    "plt.plot(data_points.T[0], data_points.T[1], '^', color = 'purple')\n",
    "plt.show()"
   ]
  },
  {
   "cell_type": "markdown",
   "metadata": {},
   "source": [
    "**Using 2 mixtures, initialize your Gaussian with means $(3,3)$ and $(-3,-3)$, and standard Covariance, $\\mathbf{I}$, the identity matrix. Use equal mixture weights as the initial weights. Repeat three iterations of EM. Write down $w_{n, j}, m_{j}, \\mu_{j}, \\mathbf{Σ}_{j}$ for each EM iteration.**\n",
    "\n",
    "<font color=red>**Answer**</font><br>\n",
    "The answer is in the output of the code cell below."
   ]
  },
  {
   "cell_type": "code",
   "execution_count": 478,
   "metadata": {},
   "outputs": [
    {
     "name": "stdout",
     "output_type": "stream",
     "text": [
      "Initialization:\n"
     ]
    },
    {
     "data": {
      "text/latex": [
       "$$m_{j}:$$"
      ],
      "text/plain": [
       "<IPython.core.display.Math object>"
      ]
     },
     "metadata": {},
     "output_type": "display_data"
    },
    {
     "data": {
      "text/latex": [
       "\\begin{equation}m_{0}=\\begin{bmatrix}\n",
       "  0.5\\\\\n",
       "\\end{bmatrix}\\end{equation}"
      ],
      "text/plain": [
       "<IPython.core.display.Latex object>"
      ]
     },
     "metadata": {},
     "output_type": "display_data"
    },
    {
     "data": {
      "text/latex": [
       "\\begin{equation}m_{1}=\\begin{bmatrix}\n",
       "  0.5\\\\\n",
       "\\end{bmatrix}\\end{equation}"
      ],
      "text/plain": [
       "<IPython.core.display.Latex object>"
      ]
     },
     "metadata": {},
     "output_type": "display_data"
    },
    {
     "data": {
      "text/latex": [
       "$$\\mu_{j}:$$"
      ],
      "text/plain": [
       "<IPython.core.display.Math object>"
      ]
     },
     "metadata": {},
     "output_type": "display_data"
    },
    {
     "data": {
      "text/latex": [
       "\\begin{equation}\\mu_{0}=\\begin{bmatrix}\n",
       "  3.\\\\\n",
       "  3.\\\\\n",
       "\\end{bmatrix}\\end{equation}"
      ],
      "text/plain": [
       "<IPython.core.display.Latex object>"
      ]
     },
     "metadata": {},
     "output_type": "display_data"
    },
    {
     "data": {
      "text/latex": [
       "\\begin{equation}\\mu_{1}=\\begin{bmatrix}\n",
       "  -3.\\\\\n",
       "  -3.\\\\\n",
       "\\end{bmatrix}\\end{equation}"
      ],
      "text/plain": [
       "<IPython.core.display.Latex object>"
      ]
     },
     "metadata": {},
     "output_type": "display_data"
    },
    {
     "data": {
      "text/latex": [
       "$$\\mathbf{Σ}_{j}:$$"
      ],
      "text/plain": [
       "<IPython.core.display.Math object>"
      ]
     },
     "metadata": {},
     "output_type": "display_data"
    },
    {
     "data": {
      "text/latex": [
       "\\begin{equation}\\mathbf{Σ}_{0}=\\begin{bmatrix}\n",
       "  1. & 0.\\\\\n",
       "  0. & 1.\\\\\n",
       "\\end{bmatrix}\\end{equation}"
      ],
      "text/plain": [
       "<IPython.core.display.Latex object>"
      ]
     },
     "metadata": {},
     "output_type": "display_data"
    },
    {
     "data": {
      "text/latex": [
       "\\begin{equation}\\mathbf{Σ}_{1}=\\begin{bmatrix}\n",
       "  1. & 0.\\\\\n",
       "  0. & 1.\\\\\n",
       "\\end{bmatrix}\\end{equation}"
      ],
      "text/plain": [
       "<IPython.core.display.Latex object>"
      ]
     },
     "metadata": {},
     "output_type": "display_data"
    },
    {
     "name": "stdout",
     "output_type": "stream",
     "text": [
      "\n",
      "EM Iteration: 1\n"
     ]
    },
    {
     "data": {
      "text/latex": [
       "\\begin{equation}w_{n,j}=\\begin{bmatrix}\n",
       "  9.99999985e-01 & 1.52299795e-08\\\\\n",
       "  1.00000000e+00 & 2.31952283e-16\\\\\n",
       "  1.00000000e+00 & 3.77513454e-11\\\\\n",
       "  1.00000000e+00 & 2.03109266e-42\\\\\n",
       "  1.00000000e+00 & 5.38018616e-32\\\\\n",
       "  1.00000000e+00 & 3.30570063e-37\\\\\n",
       "  2.31952283e-16 & 1.00000000e+00\\\\\n",
       "  2.31952283e-16 & 1.00000000e+00\\\\\n",
       "  3.30570063e-37 & 1.00000000e+00\\\\\n",
       "\\end{bmatrix}\\end{equation}"
      ],
      "text/plain": [
       "<IPython.core.display.Latex object>"
      ]
     },
     "metadata": {},
     "output_type": "display_data"
    },
    {
     "data": {
      "text/latex": [
       "$$m_{j}:$$"
      ],
      "text/plain": [
       "<IPython.core.display.Math object>"
      ]
     },
     "metadata": {},
     "output_type": "display_data"
    },
    {
     "data": {
      "text/latex": [
       "\\begin{equation}m_{0}=\\begin{bmatrix}\n",
       "  0.66666666\\\\\n",
       "\\end{bmatrix}\\end{equation}"
      ],
      "text/plain": [
       "<IPython.core.display.Latex object>"
      ]
     },
     "metadata": {},
     "output_type": "display_data"
    },
    {
     "data": {
      "text/latex": [
       "\\begin{equation}m_{1}=\\begin{bmatrix}\n",
       "  0.33333334\\\\\n",
       "\\end{bmatrix}\\end{equation}"
      ],
      "text/plain": [
       "<IPython.core.display.Latex object>"
      ]
     },
     "metadata": {},
     "output_type": "display_data"
    },
    {
     "data": {
      "text/latex": [
       "$$\\mu_{j}:$$"
      ],
      "text/plain": [
       "<IPython.core.display.Math object>"
      ]
     },
     "metadata": {},
     "output_type": "display_data"
    },
    {
     "data": {
      "text/latex": [
       "\\begin{equation}\\mu_{0}=\\begin{bmatrix}\n",
       "  4.50000001\\\\\n",
       "  4.66666667\\\\\n",
       "\\end{bmatrix}\\end{equation}"
      ],
      "text/plain": [
       "<IPython.core.display.Latex object>"
      ]
     },
     "metadata": {},
     "output_type": "display_data"
    },
    {
     "data": {
      "text/latex": [
       "\\begin{equation}\\mu_{1}=\\begin{bmatrix}\n",
       "  -3.99999997\\\\\n",
       "  -4.66666663\\\\\n",
       "\\end{bmatrix}\\end{equation}"
      ],
      "text/plain": [
       "<IPython.core.display.Latex object>"
      ]
     },
     "metadata": {},
     "output_type": "display_data"
    },
    {
     "data": {
      "text/latex": [
       "$$\\mathbf{Σ}_{j}:$$"
      ],
      "text/plain": [
       "<IPython.core.display.Math object>"
      ]
     },
     "metadata": {},
     "output_type": "display_data"
    },
    {
     "data": {
      "text/latex": [
       "\\begin{equation}\\mathbf{Σ}_{0}=\\begin{bmatrix}\n",
       "  9.16666668 & 0.\\\\\n",
       "  0. & 8.66666669\\\\\n",
       "\\end{bmatrix}\\end{equation}"
      ],
      "text/plain": [
       "<IPython.core.display.Latex object>"
      ]
     },
     "metadata": {},
     "output_type": "display_data"
    },
    {
     "data": {
      "text/latex": [
       "\\begin{equation}\\mathbf{Σ}_{1}=\\begin{bmatrix}\n",
       "  5.66666672 & 0.\\\\\n",
       "  0. & 5.66666677\\\\\n",
       "\\end{bmatrix}\\end{equation}"
      ],
      "text/plain": [
       "<IPython.core.display.Latex object>"
      ]
     },
     "metadata": {},
     "output_type": "display_data"
    },
    {
     "name": "stdout",
     "output_type": "stream",
     "text": [
      "\n",
      "EM Iteration: 2\n"
     ]
    },
    {
     "data": {
      "text/latex": [
       "\\begin{equation}w_{n,j}=\\begin{bmatrix}\n",
       "  9.94979696e-01 & 5.02030393e-03\\\\\n",
       "  9.99922646e-01 & 7.73541258e-05\\\\\n",
       "  9.98623856e-01 & 1.37614400e-03\\\\\n",
       "  1.00000000e+00 & 6.27933891e-12\\\\\n",
       "  9.99999994e-01 & 6.33185482e-09\\\\\n",
       "  1.00000000e+00 & 2.12626993e-10\\\\\n",
       "  2.77132409e-03 & 9.97228676e-01\\\\\n",
       "  2.45908782e-03 & 9.97540912e-01\\\\\n",
       "  1.30217751e-06 & 9.99998698e-01\\\\\n",
       "\\end{bmatrix}\\end{equation}"
      ],
      "text/plain": [
       "<IPython.core.display.Latex object>"
      ]
     },
     "metadata": {},
     "output_type": "display_data"
    },
    {
     "data": {
      "text/latex": [
       "$$m_{j}:$$"
      ],
      "text/plain": [
       "<IPython.core.display.Math object>"
      ]
     },
     "metadata": {},
     "output_type": "display_data"
    },
    {
     "data": {
      "text/latex": [
       "\\begin{equation}m_{0}=\\begin{bmatrix}\n",
       "  0.66652866\\\\\n",
       "\\end{bmatrix}\\end{equation}"
      ],
      "text/plain": [
       "<IPython.core.display.Latex object>"
      ]
     },
     "metadata": {},
     "output_type": "display_data"
    },
    {
     "data": {
      "text/latex": [
       "\\begin{equation}m_{1}=\\begin{bmatrix}\n",
       "  0.33347134\\\\\n",
       "\\end{bmatrix}\\end{equation}"
      ],
      "text/plain": [
       "<IPython.core.display.Latex object>"
      ]
     },
     "metadata": {},
     "output_type": "display_data"
    },
    {
     "data": {
      "text/latex": [
       "$$\\mu_{j}:$$"
      ],
      "text/plain": [
       "<IPython.core.display.Math object>"
      ]
     },
     "metadata": {},
     "output_type": "display_data"
    },
    {
     "data": {
      "text/latex": [
       "\\begin{equation}\\mu_{0}=\\begin{bmatrix}\n",
       "  4.49739004\\\\\n",
       "  4.66243446\\\\\n",
       "\\end{bmatrix}\\end{equation}"
      ],
      "text/plain": [
       "<IPython.core.display.Latex object>"
      ]
     },
     "metadata": {},
     "output_type": "display_data"
    },
    {
     "data": {
      "text/latex": [
       "\\begin{equation}\\mu_{1}=\\begin{bmatrix}\n",
       "  -3.9912655\\\\\n",
       "  -4.65434481\\\\\n",
       "\\end{bmatrix}\\end{equation}"
      ],
      "text/plain": [
       "<IPython.core.display.Latex object>"
      ]
     },
     "metadata": {},
     "output_type": "display_data"
    },
    {
     "data": {
      "text/latex": [
       "$$\\mathbf{Σ}_{j}:$$"
      ],
      "text/plain": [
       "<IPython.core.display.Math object>"
      ]
     },
     "metadata": {},
     "output_type": "display_data"
    },
    {
     "data": {
      "text/latex": [
       "\\begin{equation}\\mathbf{Σ}_{0}=\\begin{bmatrix}\n",
       "  6.94971903 & 0.\\\\\n",
       "  0. & 5.94046426\\\\\n",
       "\\end{bmatrix}\\end{equation}"
      ],
      "text/plain": [
       "<IPython.core.display.Latex object>"
      ]
     },
     "metadata": {},
     "output_type": "display_data"
    },
    {
     "data": {
      "text/latex": [
       "\\begin{equation}\\mathbf{Σ}_{1}=\\begin{bmatrix}\n",
       "  4.72011919 & 0.\\\\\n",
       "  0. & 2.98099996\\\\\n",
       "\\end{bmatrix}\\end{equation}"
      ],
      "text/plain": [
       "<IPython.core.display.Latex object>"
      ]
     },
     "metadata": {},
     "output_type": "display_data"
    },
    {
     "name": "stdout",
     "output_type": "stream",
     "text": [
      "\n",
      "EM Iteration: 3\n"
     ]
    },
    {
     "data": {
      "text/latex": [
       "\\begin{equation}w_{n,j}=\\begin{bmatrix}\n",
       "  9.99840572e-01 & 1.59427561e-04\\\\\n",
       "  9.99999613e-01 & 3.86910944e-07\\\\\n",
       "  9.99967636e-01 & 3.23639718e-05\\\\\n",
       "  1.00000000e+00 & 2.77855078e-18\\\\\n",
       "  1.00000000e+00 & 1.61298139e-13\\\\\n",
       "  1.00000000e+00 & 7.52961598e-16\\\\\n",
       "  2.56424026e-04 & 9.99743576e-01\\\\\n",
       "  1.65413279e-04 & 9.99834587e-01\\\\\n",
       "  6.05550189e-09 & 9.99999994e-01\\\\\n",
       "\\end{bmatrix}\\end{equation}"
      ],
      "text/plain": [
       "<IPython.core.display.Latex object>"
      ]
     },
     "metadata": {},
     "output_type": "display_data"
    },
    {
     "data": {
      "text/latex": [
       "$$m_{j}:$$"
      ],
      "text/plain": [
       "<IPython.core.display.Math object>"
      ]
     },
     "metadata": {},
     "output_type": "display_data"
    },
    {
     "data": {
      "text/latex": [
       "\\begin{equation}m_{0}=\\begin{bmatrix}\n",
       "  0.66669218\\\\\n",
       "\\end{bmatrix}\\end{equation}"
      ],
      "text/plain": [
       "<IPython.core.display.Latex object>"
      ]
     },
     "metadata": {},
     "output_type": "display_data"
    },
    {
     "data": {
      "text/latex": [
       "\\begin{equation}m_{1}=\\begin{bmatrix}\n",
       "  0.33330782\\\\\n",
       "\\end{bmatrix}\\end{equation}"
      ],
      "text/plain": [
       "<IPython.core.display.Latex object>"
      ]
     },
     "metadata": {},
     "output_type": "display_data"
    },
    {
     "data": {
      "text/latex": [
       "$$\\mu_{j}:$$"
      ],
      "text/plain": [
       "<IPython.core.display.Math object>"
      ]
     },
     "metadata": {},
     "output_type": "display_data"
    },
    {
     "data": {
      "text/latex": [
       "\\begin{equation}\\mu_{0}=\\begin{bmatrix}\n",
       "  4.49960686\\\\\n",
       "  4.66618544\\\\\n",
       "\\end{bmatrix}\\end{equation}"
      ],
      "text/plain": [
       "<IPython.core.display.Latex object>"
      ]
     },
     "metadata": {},
     "output_type": "display_data"
    },
    {
     "data": {
      "text/latex": [
       "\\begin{equation}\\mu_{1}=\\begin{bmatrix}\n",
       "  -3.99986439\\\\\n",
       "  -4.66641867\\\\\n",
       "\\end{bmatrix}\\end{equation}"
      ],
      "text/plain": [
       "<IPython.core.display.Latex object>"
      ]
     },
     "metadata": {},
     "output_type": "display_data"
    },
    {
     "data": {
      "text/latex": [
       "$$\\mathbf{Σ}_{j}:$$"
      ],
      "text/plain": [
       "<IPython.core.display.Math object>"
      ]
     },
     "metadata": {},
     "output_type": "display_data"
    },
    {
     "data": {
      "text/latex": [
       "\\begin{equation}\\mathbf{Σ}_{0}=\\begin{bmatrix}\n",
       "  6.9196161 & 0.\\\\\n",
       "  0. & 5.89303254\\\\\n",
       "\\end{bmatrix}\\end{equation}"
      ],
      "text/plain": [
       "<IPython.core.display.Latex object>"
      ]
     },
     "metadata": {},
     "output_type": "display_data"
    },
    {
     "data": {
      "text/latex": [
       "\\begin{equation}\\mathbf{Σ}_{1}=\\begin{bmatrix}\n",
       "  4.66851519 & 0.\\\\\n",
       "  0. & 2.89184297\\\\\n",
       "\\end{bmatrix}\\end{equation}"
      ],
      "text/plain": [
       "<IPython.core.display.Latex object>"
      ]
     },
     "metadata": {},
     "output_type": "display_data"
    },
    {
     "name": "stdout",
     "output_type": "stream",
     "text": [
      "\n"
     ]
    }
   ],
   "source": [
    "init_mu_2 = np.array([[3., 3.], [-3., -3.]])\n",
    "log_likelihoods_2, mu_2, sigma_2 = em(data = data_points, n_mixture = 2, initial_mu = init_mu_2, iterations = 3, verbose = True)"
   ]
  },
  {
   "cell_type": "markdown",
   "metadata": {},
   "source": [
    "**Plot the log likelihood of the model given the data after each EM step.**\n",
    "\n",
    "<font color=red>**Answer**</font><br>\n",
    "The answer is shown in the figure below."
   ]
  },
  {
   "cell_type": "code",
   "execution_count": 479,
   "metadata": {},
   "outputs": [
    {
     "name": "stdout",
     "output_type": "stream",
     "text": [
      "[-93.27921820745587, -46.888870101861045, -46.292975286199031]\n"
     ]
    },
    {
     "data": {
      "image/png": "[encoded data removed]",
      "text/plain": [
       "<matplotlib.figure.Figure at 0x7fe8e96dfcf8>"
      ]
     },
     "metadata": {},
     "output_type": "display_data"
    }
   ],
   "source": [
    "print(log_likelihoods_2)\n",
    "plt.plot([i + 1 for i in range(len(log_likelihoods_2))], log_likelihoods_2, 'ro')\n",
    "plt.axis([0, 4, -100, -30])\n",
    "plt.xlabel('Iteration')\n",
    "plt.ylabel('Log Likelihood')\n",
    "plt.show()"
   ]
  },
  {
   "cell_type": "code",
   "execution_count": 480,
   "metadata": {},
   "outputs": [
    {
     "name": "stdout",
     "output_type": "stream",
     "text": [
      "[[ 4.49960686  4.66618544]\n",
      " [-3.99986439 -4.66641867]]\n"
     ]
    },
    {
     "data": {
      "image/png": "[encoded data removed]",
      "text/plain": [
       "<matplotlib.figure.Figure at 0x7fe8e97ebcc0>"
      ]
     },
     "metadata": {},
     "output_type": "display_data"
    }
   ],
   "source": [
    "print(mu_2)\n",
    "for i in range(len(mu_2)):\n",
    "    x, y = np.random.multivariate_normal(mu_2[i], sigma_2[i], 500).T\n",
    "    plt.plot(x, y, 'x')\n",
    "    plt.axis('equal')\n",
    "plt.plot(data_points.T[0], data_points.T[1], '^', color = 'purple')\n",
    "plt.show()"
   ]
  },
  {
   "cell_type": "markdown",
   "metadata": {},
   "source": [
    "**Compare the log likelihood between using two mixtures and three mixtures. Which one has the better likelihood?**<br>\n",
    "Compare $BIC = -2logL + tlogn$ of the two models<br>\n",
    "where <br>\n",
    "$t$ = number of parameters in the model<br>\n",
    "$n$ = number of data points"
   ]
  },
  {
   "cell_type": "code",
   "execution_count": 481,
   "metadata": {
    "collapsed": true
   },
   "outputs": [],
   "source": [
    "# Manually calculate Bayesian Information Criterion (BIC)\n",
    "# Number of parameters in the 3-mixture model = 8\n",
    "bic_1 = -2. * log_likelihoods_1[-1] + 8. * np.log(data_points.shape[0])\n",
    "\n",
    "# Number of parameters in the 3-mixture model = 5\n",
    "bic_2 = -2. * log_likelihoods_2[-1] + 5. * np.log(data_points.shape[0])"
   ]
  },
  {
   "cell_type": "code",
   "execution_count": 482,
   "metadata": {},
   "outputs": [
    {
     "data": {
      "text/plain": [
       "94.6646750321366"
      ]
     },
     "execution_count": 482,
     "metadata": {},
     "output_type": "execute_result"
    }
   ],
   "source": [
    "bic_1"
   ]
  },
  {
   "cell_type": "code",
   "execution_count": 483,
   "metadata": {},
   "outputs": [
    {
     "data": {
      "text/plain": [
       "103.57207345907916"
      ]
     },
     "execution_count": 483,
     "metadata": {},
     "output_type": "execute_result"
    }
   ],
   "source": [
    "bic_2"
   ]
  },
  {
   "cell_type": "markdown",
   "metadata": {},
   "source": [
    "<font color=red>**Answer**</font><br>\n",
    "After penalizing the log likelihood based on BIC, BIC of 3-mixture model is less than BIC of 2-mixture one, so log likelihood using three mixtures is better."
   ]
  }
 ],
 "metadata": {
  "kernelspec": {
   "display_name": "Python 3",
   "language": "python",
   "name": "python3"
  },
  "language_info": {
   "codemirror_mode": {
    "name": "ipython",
    "version": 3
   },
   "file_extension": ".py",
   "mimetype": "text/x-python",
   "name": "python",
   "nbconvert_exporter": "python",
   "pygments_lexer": "ipython3",
   "version": "3.6.2"
  }
 },
 "nbformat": 4,
 "nbformat_minor": 2
}
